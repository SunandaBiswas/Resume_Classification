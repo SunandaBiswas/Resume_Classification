{
 "cells": [
  {
   "cell_type": "markdown",
   "metadata": {
    "id": "Lj3AR4aZUbvT"
   },
   "source": [
    "***"
   ]
  },
  {
   "cell_type": "markdown",
   "metadata": {
    "id": "c8zTsQ31VC_O"
   },
   "source": [
    "> # RESOURCES :"
   ]
  },
  {
   "cell_type": "markdown",
   "metadata": {
    "id": "a-CsvXx_VGQP"
   },
   "source": [
    "***"
   ]
  },
  {
   "cell_type": "markdown",
   "metadata": {
    "id": "Hf3OBghNDVdM"
   },
   "source": [
    "\n",
    "> - https://www.youtube.com/watch?v=1mZAG4g3GXE&ab_channel=Twdzac\n",
    "> - https://www.youtube.com/watch?v=8fVEMdHKmqM&ab_channel=SatyajitPattnaik"
   ]
  },
  {
   "cell_type": "markdown",
   "metadata": {
    "id": "aWUvM4fDTzl5"
   },
   "source": [
    "># **Installing and Importing required libraries**"
   ]
  },
  {
   "cell_type": "markdown",
   "metadata": {
    "id": "V8GuKpuCU_Dc"
   },
   "source": [
    "***"
   ]
  },
  {
   "cell_type": "code",
   "execution_count": 2,
   "metadata": {
    "colab": {
     "base_uri": "https://localhost:8080/"
    },
    "id": "FTi-IMA29Es-",
    "outputId": "ff881d3c-858d-439b-a91e-7a3d6cbc521a"
   },
   "outputs": [
    {
     "name": "stdout",
     "output_type": "stream",
     "text": [
      "Collecting pyresparser\n",
      "  Downloading pyresparser-1.0.6-py3-none-any.whl (4.2 MB)\n",
      "\u001b[K     |████████████████████████████████| 4.2 MB 5.1 MB/s \n",
      "\u001b[?25hRequirement already satisfied: preshed>=2.0.1 in /usr/local/lib/python3.7/dist-packages (from pyresparser) (3.0.6)\n",
      "Requirement already satisfied: jsonschema>=3.0.1 in /usr/local/lib/python3.7/dist-packages (from pyresparser) (4.3.3)\n",
      "Requirement already satisfied: python-dateutil>=2.8.0 in /usr/local/lib/python3.7/dist-packages (from pyresparser) (2.8.2)\n",
      "Requirement already satisfied: six>=1.12.0 in /usr/local/lib/python3.7/dist-packages (from pyresparser) (1.15.0)\n",
      "Requirement already satisfied: numpy>=1.16.4 in /usr/local/lib/python3.7/dist-packages (from pyresparser) (1.21.5)\n",
      "Requirement already satisfied: attrs>=19.1.0 in /usr/local/lib/python3.7/dist-packages (from pyresparser) (21.4.0)\n",
      "Collecting pytz>=2019.1\n",
      "  Downloading pytz-2022.1-py2.py3-none-any.whl (503 kB)\n",
      "\u001b[K     |████████████████████████████████| 503 kB 30.3 MB/s \n",
      "\u001b[?25hRequirement already satisfied: sortedcontainers>=2.1.0 in /usr/local/lib/python3.7/dist-packages (from pyresparser) (2.4.0)\n",
      "Collecting urllib3>=1.25.3\n",
      "  Downloading urllib3-1.26.9-py2.py3-none-any.whl (138 kB)\n",
      "\u001b[K     |████████████████████████████████| 138 kB 42.4 MB/s \n",
      "\u001b[?25hRequirement already satisfied: blis>=0.2.4 in /usr/local/lib/python3.7/dist-packages (from pyresparser) (0.4.1)\n",
      "Requirement already satisfied: requests>=2.22.0 in /usr/local/lib/python3.7/dist-packages (from pyresparser) (2.23.0)\n",
      "Requirement already satisfied: idna>=2.8 in /usr/local/lib/python3.7/dist-packages (from pyresparser) (2.10)\n",
      "Requirement already satisfied: spacy>=2.1.4 in /usr/local/lib/python3.7/dist-packages (from pyresparser) (2.2.4)\n",
      "Collecting nltk>=3.4.3\n",
      "  Downloading nltk-3.7-py3-none-any.whl (1.5 MB)\n",
      "\u001b[K     |████████████████████████████████| 1.5 MB 38.7 MB/s \n",
      "\u001b[?25hRequirement already satisfied: pandas>=0.24.2 in /usr/local/lib/python3.7/dist-packages (from pyresparser) (1.3.5)\n",
      "Requirement already satisfied: thinc>=7.0.4 in /usr/local/lib/python3.7/dist-packages (from pyresparser) (7.4.0)\n",
      "Requirement already satisfied: cymem>=2.0.2 in /usr/local/lib/python3.7/dist-packages (from pyresparser) (2.0.6)\n",
      "Requirement already satisfied: chardet>=3.0.4 in /usr/local/lib/python3.7/dist-packages (from pyresparser) (3.0.4)\n",
      "Requirement already satisfied: certifi>=2019.6.16 in /usr/local/lib/python3.7/dist-packages (from pyresparser) (2021.10.8)\n",
      "Collecting pycryptodome>=3.8.2\n",
      "  Downloading pycryptodome-3.14.1-cp35-abi3-manylinux2010_x86_64.whl (2.0 MB)\n",
      "\u001b[K     |████████████████████████████████| 2.0 MB 27.0 MB/s \n",
      "\u001b[?25hRequirement already satisfied: tqdm>=4.32.2 in /usr/local/lib/python3.7/dist-packages (from pyresparser) (4.63.0)\n",
      "Requirement already satisfied: srsly>=0.0.7 in /usr/local/lib/python3.7/dist-packages (from pyresparser) (1.0.5)\n",
      "Requirement already satisfied: wasabi>=0.2.2 in /usr/local/lib/python3.7/dist-packages (from pyresparser) (0.9.0)\n",
      "Requirement already satisfied: pyrsistent>=0.15.2 in /usr/local/lib/python3.7/dist-packages (from pyresparser) (0.18.1)\n",
      "Collecting docx2txt>=0.7\n",
      "  Downloading docx2txt-0.8.tar.gz (2.8 kB)\n",
      "Collecting pdfminer.six>=20181108\n",
      "  Downloading pdfminer.six-20220319-py3-none-any.whl (5.6 MB)\n",
      "\u001b[K     |████████████████████████████████| 5.6 MB 35.6 MB/s \n",
      "\u001b[?25hRequirement already satisfied: importlib-resources>=1.4.0 in /usr/local/lib/python3.7/dist-packages (from jsonschema>=3.0.1->pyresparser) (5.4.0)\n",
      "Requirement already satisfied: typing-extensions in /usr/local/lib/python3.7/dist-packages (from jsonschema>=3.0.1->pyresparser) (3.10.0.2)\n",
      "Requirement already satisfied: importlib-metadata in /usr/local/lib/python3.7/dist-packages (from jsonschema>=3.0.1->pyresparser) (4.11.3)\n",
      "Requirement already satisfied: zipp>=3.1.0 in /usr/local/lib/python3.7/dist-packages (from importlib-resources>=1.4.0->jsonschema>=3.0.1->pyresparser) (3.7.0)\n",
      "Requirement already satisfied: click in /usr/local/lib/python3.7/dist-packages (from nltk>=3.4.3->pyresparser) (7.1.2)\n",
      "Collecting regex>=2021.8.3\n",
      "  Downloading regex-2022.3.15-cp37-cp37m-manylinux_2_17_x86_64.manylinux2014_x86_64.whl (749 kB)\n",
      "\u001b[K     |████████████████████████████████| 749 kB 39.7 MB/s \n",
      "\u001b[?25hRequirement already satisfied: joblib in /usr/local/lib/python3.7/dist-packages (from nltk>=3.4.3->pyresparser) (1.1.0)\n",
      "Collecting cryptography\n",
      "  Downloading cryptography-36.0.2-cp36-abi3-manylinux_2_24_x86_64.whl (3.6 MB)\n",
      "\u001b[K     |████████████████████████████████| 3.6 MB 37.2 MB/s \n",
      "\u001b[?25hRequirement already satisfied: murmurhash<1.1.0,>=0.28.0 in /usr/local/lib/python3.7/dist-packages (from preshed>=2.0.1->pyresparser) (1.0.6)\n",
      "Collecting urllib3>=1.25.3\n",
      "  Downloading urllib3-1.25.11-py2.py3-none-any.whl (127 kB)\n",
      "\u001b[K     |████████████████████████████████| 127 kB 42.5 MB/s \n",
      "\u001b[?25hRequirement already satisfied: plac<1.2.0,>=0.9.6 in /usr/local/lib/python3.7/dist-packages (from spacy>=2.1.4->pyresparser) (1.1.3)\n",
      "Requirement already satisfied: catalogue<1.1.0,>=0.0.7 in /usr/local/lib/python3.7/dist-packages (from spacy>=2.1.4->pyresparser) (1.0.0)\n",
      "Requirement already satisfied: setuptools in /usr/local/lib/python3.7/dist-packages (from spacy>=2.1.4->pyresparser) (57.4.0)\n",
      "Requirement already satisfied: cffi>=1.12 in /usr/local/lib/python3.7/dist-packages (from cryptography->pdfminer.six>=20181108->pyresparser) (1.15.0)\n",
      "Requirement already satisfied: pycparser in /usr/local/lib/python3.7/dist-packages (from cffi>=1.12->cryptography->pdfminer.six>=20181108->pyresparser) (2.21)\n",
      "Building wheels for collected packages: docx2txt\n",
      "  Building wheel for docx2txt (setup.py) ... \u001b[?25l\u001b[?25hdone\n",
      "  Created wheel for docx2txt: filename=docx2txt-0.8-py3-none-any.whl size=3980 sha256=ba8baf95c5877bdddf406abff2709bb737636078d6f237cf064d95165cfbcc39\n",
      "  Stored in directory: /root/.cache/pip/wheels/b7/20/b2/473e3aea9a0c0d3e7b2f7bd81d06d0794fec12752733d1f3a8\n",
      "Successfully built docx2txt\n",
      "Installing collected packages: urllib3, regex, pytz, cryptography, pycryptodome, pdfminer.six, nltk, docx2txt, pyresparser\n",
      "  Attempting uninstall: urllib3\n",
      "    Found existing installation: urllib3 1.24.3\n",
      "    Uninstalling urllib3-1.24.3:\n",
      "      Successfully uninstalled urllib3-1.24.3\n",
      "  Attempting uninstall: regex\n",
      "    Found existing installation: regex 2019.12.20\n",
      "    Uninstalling regex-2019.12.20:\n",
      "      Successfully uninstalled regex-2019.12.20\n",
      "  Attempting uninstall: pytz\n",
      "    Found existing installation: pytz 2018.9\n",
      "    Uninstalling pytz-2018.9:\n",
      "      Successfully uninstalled pytz-2018.9\n",
      "  Attempting uninstall: nltk\n",
      "    Found existing installation: nltk 3.2.5\n",
      "    Uninstalling nltk-3.2.5:\n",
      "      Successfully uninstalled nltk-3.2.5\n",
      "\u001b[31mERROR: pip's dependency resolver does not currently take into account all the packages that are installed. This behaviour is the source of the following dependency conflicts.\n",
      "datascience 0.10.6 requires folium==0.2.1, but you have folium 0.8.3 which is incompatible.\u001b[0m\n",
      "Successfully installed cryptography-36.0.2 docx2txt-0.8 nltk-3.7 pdfminer.six-20220319 pycryptodome-3.14.1 pyresparser-1.0.6 pytz-2022.1 regex-2022.3.15 urllib3-1.25.11\n",
      "Requirement already satisfied: nltk in /usr/local/lib/python3.7/dist-packages (3.7)\n",
      "Requirement already satisfied: joblib in /usr/local/lib/python3.7/dist-packages (from nltk) (1.1.0)\n",
      "Requirement already satisfied: tqdm in /usr/local/lib/python3.7/dist-packages (from nltk) (4.63.0)\n",
      "Requirement already satisfied: regex>=2021.8.3 in /usr/local/lib/python3.7/dist-packages (from nltk) (2022.3.15)\n",
      "Requirement already satisfied: click in /usr/local/lib/python3.7/dist-packages (from nltk) (7.1.2)\n",
      "Collecting python-docx\n",
      "  Downloading python-docx-0.8.11.tar.gz (5.6 MB)\n",
      "\u001b[K     |████████████████████████████████| 5.6 MB 5.3 MB/s \n",
      "\u001b[?25hRequirement already satisfied: lxml>=2.3.2 in /usr/local/lib/python3.7/dist-packages (from python-docx) (4.2.6)\n",
      "Building wheels for collected packages: python-docx\n",
      "  Building wheel for python-docx (setup.py) ... \u001b[?25l\u001b[?25hdone\n",
      "  Created wheel for python-docx: filename=python_docx-0.8.11-py3-none-any.whl size=184507 sha256=a1c3e613b00c80ed4a0bb1ea01cec085b7501e8748cc94c15613b94b1dc58b4c\n",
      "  Stored in directory: /root/.cache/pip/wheels/f6/6f/b9/d798122a8b55b74ad30b5f52b01482169b445fbb84a11797a6\n",
      "Successfully built python-docx\n",
      "Installing collected packages: python-docx\n",
      "Successfully installed python-docx-0.8.11\n",
      "Collecting docx\n",
      "  Downloading docx-0.2.4.tar.gz (54 kB)\n",
      "\u001b[K     |████████████████████████████████| 54 kB 1.9 MB/s \n",
      "\u001b[?25hRequirement already satisfied: lxml in /usr/local/lib/python3.7/dist-packages (from docx) (4.2.6)\n",
      "Requirement already satisfied: Pillow>=2.0 in /usr/local/lib/python3.7/dist-packages (from docx) (7.1.2)\n",
      "Building wheels for collected packages: docx\n",
      "  Building wheel for docx (setup.py) ... \u001b[?25l\u001b[?25hdone\n",
      "  Created wheel for docx: filename=docx-0.2.4-py3-none-any.whl size=53924 sha256=2ea080b150ff95b564ef3f5731e52bd0273e39eb8e8dc59f8c0e59848dc1057b\n",
      "  Stored in directory: /root/.cache/pip/wheels/dc/ac/45/846e21706415c92fc6e0964e343be1eb31cfc63e149dee5fbe\n",
      "Successfully built docx\n",
      "Installing collected packages: docx\n",
      "Successfully installed docx-0.2.4\n"
     ]
    }
   ],
   "source": [
    "!pip install pyresparser\n",
    "!pip install nltk \n",
    "!pip install python-docx \n",
    "!pip install docx "
   ]
  },
  {
   "cell_type": "code",
   "execution_count": 3,
   "metadata": {
    "colab": {
     "base_uri": "https://localhost:8080/"
    },
    "id": "qBF2KoPOmL-i",
    "outputId": "8c64cdd5-0372-4fe9-be84-22a299a4fc20"
   },
   "outputs": [
    {
     "name": "stderr",
     "output_type": "stream",
     "text": [
      "[nltk_data] Downloading package stopwords to /root/nltk_data...\n",
      "[nltk_data]   Unzipping corpora/stopwords.zip.\n"
     ]
    }
   ],
   "source": [
    "import warnings\n",
    "warnings.filterwarnings('ignore')\n",
    "import nltk\n",
    "nltk.download('stopwords')\n",
    "import os\n",
    "from pyresparser import ResumeParser\n",
    "\n",
    "import re\n",
    "import numpy as np\n",
    "import pandas as pd \n",
    "from sklearn import metrics\n",
    "import itertools\n",
    "from nltk.corpus import stopwords\n",
    "from nltk.stem.porter import PorterStemmer\n",
    "import matplotlib.pyplot as plt"
   ]
  },
  {
   "cell_type": "markdown",
   "metadata": {
    "id": "zEA9yUUxSVcy"
   },
   "source": [
    "> - NLTK is used to transform texts into mathematical objects. There are various functions that helps in vector transformation of texts.\n",
    "\n",
    "> Indented block\n",
    "\n"
   ]
  },
  {
   "cell_type": "markdown",
   "metadata": {
    "id": "NLXa3XcdJFbx"
   },
   "source": [
    "> # EDA & Pre-Processing"
   ]
  },
  {
   "cell_type": "markdown",
   "metadata": {
    "id": "Hsj-rmtxUsfX"
   },
   "source": [
    "***"
   ]
  },
  {
   "cell_type": "code",
   "execution_count": 4,
   "metadata": {
    "colab": {
     "base_uri": "https://localhost:8080/"
    },
    "id": "zTueNdD3BA4I",
    "outputId": "90356753-70f7-4634-fdfe-74c6e7128d87"
   },
   "outputs": [
    {
     "name": "stdout",
     "output_type": "stream",
     "text": [
      "/content/Ponkoj Chandra Shill - Resume.pdf\n"
     ]
    }
   ],
   "source": [
    "file = input() "
   ]
  },
  {
   "cell_type": "code",
   "execution_count": 30,
   "metadata": {
    "id": "_v-D9Zn6BLq2"
   },
   "outputs": [],
   "source": [
    "data = ResumeParser(file).get_extracted_data()"
   ]
  },
  {
   "cell_type": "code",
   "execution_count": 31,
   "metadata": {
    "colab": {
     "base_uri": "https://localhost:8080/"
    },
    "id": "oe-sGP8HBo5V",
    "outputId": "879e2e5d-a7c4-4d94-e593-12549496d1d8"
   },
   "outputs": [
    {
     "data": {
      "text/plain": [
       "{'college_name': None,\n",
       " 'company_names': ['Truck Lagbe'],\n",
       " 'degree': ['csponkoj@gmail.com'],\n",
       " 'designation': ['DATA ANALYST',\n",
       "  'BUSINESS INTELLIGENCE ANALYST',\n",
       "  'MACHINE LEARNING ENGINEER'],\n",
       " 'email': 'csponkoj@gmail.com',\n",
       " 'experience': ['Multimodal  Hate  Speech  Detection  Using  Machine',\n",
       "  'Learning',\n",
       "  'for  detecting  hate  contents',\n",
       "  'This  approach',\n",
       "  'through',\n",
       "  'analyzing  video  frames,  audio  signals  and  extracted  texts.',\n",
       "  'The  LSTM  based  RNN  is  used  for  recognizing  abusive',\n",
       "  'is  used  for  detecting',\n",
       "  'expression  or  movement,  DNN',\n",
       "  'aggressive  voice  tone  and  BERT  is  used  for  detecting',\n",
       "  'offensive  texts.  Finally,  ensemble  weighted  voting  method',\n",
       "  'is used to classify the hateful content.',\n",
       "  '( https://ieeexplore.ieee.org/document/9671955 )'],\n",
       " 'mobile_number': '8801521333',\n",
       " 'name': 'ENGINEER Softwrd',\n",
       " 'no_of_pages': 2,\n",
       " 'skills': ['Mathematics',\n",
       "  'C',\n",
       "  'Python',\n",
       "  'Mysql',\n",
       "  'Analysis',\n",
       "  'Website',\n",
       "  'Github',\n",
       "  'Spacy',\n",
       "  'Postgresql',\n",
       "  'Ai',\n",
       "  'Engineering',\n",
       "  'English',\n",
       "  'Video',\n",
       "  'Pandas',\n",
       "  'Aws',\n",
       "  'Sqlalchemy',\n",
       "  'Seaborn',\n",
       "  'Teaching',\n",
       "  'Java',\n",
       "  'Audio',\n",
       "  'Tableau',\n",
       "  'Scipy',\n",
       "  'Automation',\n",
       "  'P',\n",
       "  'Data analysis',\n",
       "  'Programming',\n",
       "  'Sql',\n",
       "  'Gensim',\n",
       "  'Pymongo',\n",
       "  'R',\n",
       "  'Analyze',\n",
       "  'Pytorch',\n",
       "  'Nltk',\n",
       "  'Matplotlib',\n",
       "  'Content',\n",
       "  'Keras',\n",
       "  'Research',\n",
       "  'Analyze data',\n",
       "  'Numpy',\n",
       "  'Etl',\n",
       "  'Fuzzywuzzy',\n",
       "  'C++',\n",
       "  'Opencv',\n",
       "  'Machine learning'],\n",
       " 'total_experience': 0.0}"
      ]
     },
     "execution_count": 31,
     "metadata": {},
     "output_type": "execute_result"
    }
   ],
   "source": [
    "data"
   ]
  },
  {
   "cell_type": "code",
   "execution_count": 7,
   "metadata": {
    "colab": {
     "base_uri": "https://localhost:8080/",
     "height": 35
    },
    "id": "DwLyhfbmnPJe",
    "outputId": "14ff4293-d760-44f5-856a-4b7dcdc99d67"
   },
   "outputs": [
    {
     "data": {
      "application/vnd.google.colaboratory.intrinsic+json": {
       "type": "string"
      },
      "text/plain": [
       "'csponkoj@gmail.com'"
      ]
     },
     "execution_count": 7,
     "metadata": {},
     "output_type": "execute_result"
    }
   ],
   "source": [
    "data['email']"
   ]
  },
  {
   "cell_type": "code",
   "execution_count": 8,
   "metadata": {
    "colab": {
     "base_uri": "https://localhost:8080/"
    },
    "id": "9YAxMNMTBq35",
    "outputId": "a8ff56b7-89a3-48fc-f6cc-b75f41ea161d"
   },
   "outputs": [
    {
     "data": {
      "text/plain": [
       "['Mathematics',\n",
       " 'C',\n",
       " 'Python',\n",
       " 'Mysql',\n",
       " 'Analysis',\n",
       " 'Website',\n",
       " 'Github',\n",
       " 'Spacy',\n",
       " 'Postgresql',\n",
       " 'Ai',\n",
       " 'Engineering',\n",
       " 'English',\n",
       " 'Video',\n",
       " 'Pandas',\n",
       " 'Aws',\n",
       " 'Sqlalchemy',\n",
       " 'Seaborn',\n",
       " 'Teaching',\n",
       " 'Java',\n",
       " 'Audio',\n",
       " 'Tableau',\n",
       " 'Scipy',\n",
       " 'Automation',\n",
       " 'P',\n",
       " 'Data analysis',\n",
       " 'Programming',\n",
       " 'Sql',\n",
       " 'Gensim',\n",
       " 'Pymongo',\n",
       " 'R',\n",
       " 'Analyze',\n",
       " 'Pytorch',\n",
       " 'Nltk',\n",
       " 'Matplotlib',\n",
       " 'Content',\n",
       " 'Keras',\n",
       " 'Research',\n",
       " 'Analyze data',\n",
       " 'Numpy',\n",
       " 'Etl',\n",
       " 'Fuzzywuzzy',\n",
       " 'C++',\n",
       " 'Opencv',\n",
       " 'Machine learning']"
      ]
     },
     "execution_count": 8,
     "metadata": {},
     "output_type": "execute_result"
    }
   ],
   "source": [
    "data['skills']"
   ]
  },
  {
   "cell_type": "code",
   "execution_count": null,
   "metadata": {
    "colab": {
     "base_uri": "https://localhost:8080/",
     "height": 87
    },
    "id": "HBRWhoPOxU7M",
    "outputId": "f4c72853-08d8-495d-e0fb-d8c421f3dbe5"
   },
   "outputs": [
    {
     "data": {
      "application/vnd.google.colaboratory.intrinsic+json": {
       "type": "string"
      },
      "text/plain": [
       "\"['Matplotlib', 'Audio', 'Video', 'Website', 'System', 'C', 'Ai', 'Content', 'Matrix', 'Sql', 'Machine learning', 'Pycharm', 'Tableau', 'Excel', 'Algorithms', 'Database', 'Pandas', 'Analyze data', 'Engineering', 'Etl', 'Numpy', 'R', 'Sqlalchemy', 'C++', 'P', 'Analyze', 'Automation', 'Analysis', 'Business intelligence', 'Datasets', 'Mysql', 'Forecasting', 'Python', 'Aws', 'Jupyter', 'Research', 'Mathematics', 'Data analysis', 'Github', 'Programming']\""
      ]
     },
     "execution_count": 7,
     "metadata": {},
     "output_type": "execute_result"
    }
   ],
   "source": [
    "skills = str(data['skills'])\n",
    "skills"
   ]
  },
  {
   "cell_type": "markdown",
   "metadata": {
    "id": "2EmWsVLc53NI"
   },
   "source": [
    "> **Skills : list to Dataframe**"
   ]
  },
  {
   "cell_type": "markdown",
   "metadata": {
    "id": "s9VKDkxxUUZs"
   },
   "source": [
    "***"
   ]
  },
  {
   "cell_type": "code",
   "execution_count": 92,
   "metadata": {
    "colab": {
     "base_uri": "https://localhost:8080/",
     "height": 177
    },
    "id": "5U_US6U2wwDj",
    "outputId": "dfc1fd8b-3842-4111-9bcd-259d801f75bd"
   },
   "outputs": [
    {
     "data": {
      "text/html": [
       "\n",
       "  <div id=\"df-b53669c5-474a-4964-a43c-13d872016356\">\n",
       "    <div class=\"colab-df-container\">\n",
       "      <div>\n",
       "<style scoped>\n",
       "    .dataframe tbody tr th:only-of-type {\n",
       "        vertical-align: middle;\n",
       "    }\n",
       "\n",
       "    .dataframe tbody tr th {\n",
       "        vertical-align: top;\n",
       "    }\n",
       "\n",
       "    .dataframe thead th {\n",
       "        text-align: right;\n",
       "    }\n",
       "</style>\n",
       "<table border=\"1\" class=\"dataframe\">\n",
       "  <thead>\n",
       "    <tr style=\"text-align: right;\">\n",
       "      <th></th>\n",
       "      <th>name</th>\n",
       "      <th>email</th>\n",
       "      <th>mobile_number</th>\n",
       "      <th>skills</th>\n",
       "      <th>college_name</th>\n",
       "      <th>degree</th>\n",
       "      <th>designation</th>\n",
       "      <th>experience</th>\n",
       "      <th>company_names</th>\n",
       "      <th>no_of_pages</th>\n",
       "      <th>total_experience</th>\n",
       "    </tr>\n",
       "  </thead>\n",
       "  <tbody>\n",
       "    <tr>\n",
       "      <th>0</th>\n",
       "      <td>ENGINEER Softwrd</td>\n",
       "      <td>csponkoj@gmail.com</td>\n",
       "      <td>8801521333</td>\n",
       "      <td>[Mathematics, C, Python, Mysql, Analysis, Webs...</td>\n",
       "      <td>None</td>\n",
       "      <td>[csponkoj@gmail.com]</td>\n",
       "      <td>[DATA ANALYST, BUSINESS INTELLIGENCE ANALYST, ...</td>\n",
       "      <td>[Multimodal  Hate  Speech  Detection  Using  M...</td>\n",
       "      <td>[Truck Lagbe]</td>\n",
       "      <td>2</td>\n",
       "      <td>0.0</td>\n",
       "    </tr>\n",
       "  </tbody>\n",
       "</table>\n",
       "</div>\n",
       "      <button class=\"colab-df-convert\" onclick=\"convertToInteractive('df-b53669c5-474a-4964-a43c-13d872016356')\"\n",
       "              title=\"Convert this dataframe to an interactive table.\"\n",
       "              style=\"display:none;\">\n",
       "        \n",
       "  <svg xmlns=\"http://www.w3.org/2000/svg\" height=\"24px\"viewBox=\"0 0 24 24\"\n",
       "       width=\"24px\">\n",
       "    <path d=\"M0 0h24v24H0V0z\" fill=\"none\"/>\n",
       "    <path d=\"M18.56 5.44l.94 2.06.94-2.06 2.06-.94-2.06-.94-.94-2.06-.94 2.06-2.06.94zm-11 1L8.5 8.5l.94-2.06 2.06-.94-2.06-.94L8.5 2.5l-.94 2.06-2.06.94zm10 10l.94 2.06.94-2.06 2.06-.94-2.06-.94-.94-2.06-.94 2.06-2.06.94z\"/><path d=\"M17.41 7.96l-1.37-1.37c-.4-.4-.92-.59-1.43-.59-.52 0-1.04.2-1.43.59L10.3 9.45l-7.72 7.72c-.78.78-.78 2.05 0 2.83L4 21.41c.39.39.9.59 1.41.59.51 0 1.02-.2 1.41-.59l7.78-7.78 2.81-2.81c.8-.78.8-2.07 0-2.86zM5.41 20L4 18.59l7.72-7.72 1.47 1.35L5.41 20z\"/>\n",
       "  </svg>\n",
       "      </button>\n",
       "      \n",
       "  <style>\n",
       "    .colab-df-container {\n",
       "      display:flex;\n",
       "      flex-wrap:wrap;\n",
       "      gap: 12px;\n",
       "    }\n",
       "\n",
       "    .colab-df-convert {\n",
       "      background-color: #E8F0FE;\n",
       "      border: none;\n",
       "      border-radius: 50%;\n",
       "      cursor: pointer;\n",
       "      display: none;\n",
       "      fill: #1967D2;\n",
       "      height: 32px;\n",
       "      padding: 0 0 0 0;\n",
       "      width: 32px;\n",
       "    }\n",
       "\n",
       "    .colab-df-convert:hover {\n",
       "      background-color: #E2EBFA;\n",
       "      box-shadow: 0px 1px 2px rgba(60, 64, 67, 0.3), 0px 1px 3px 1px rgba(60, 64, 67, 0.15);\n",
       "      fill: #174EA6;\n",
       "    }\n",
       "\n",
       "    [theme=dark] .colab-df-convert {\n",
       "      background-color: #3B4455;\n",
       "      fill: #D2E3FC;\n",
       "    }\n",
       "\n",
       "    [theme=dark] .colab-df-convert:hover {\n",
       "      background-color: #434B5C;\n",
       "      box-shadow: 0px 1px 3px 1px rgba(0, 0, 0, 0.15);\n",
       "      filter: drop-shadow(0px 1px 2px rgba(0, 0, 0, 0.3));\n",
       "      fill: #FFFFFF;\n",
       "    }\n",
       "  </style>\n",
       "\n",
       "      <script>\n",
       "        const buttonEl =\n",
       "          document.querySelector('#df-b53669c5-474a-4964-a43c-13d872016356 button.colab-df-convert');\n",
       "        buttonEl.style.display =\n",
       "          google.colab.kernel.accessAllowed ? 'block' : 'none';\n",
       "\n",
       "        async function convertToInteractive(key) {\n",
       "          const element = document.querySelector('#df-b53669c5-474a-4964-a43c-13d872016356');\n",
       "          const dataTable =\n",
       "            await google.colab.kernel.invokeFunction('convertToInteractive',\n",
       "                                                     [key], {});\n",
       "          if (!dataTable) return;\n",
       "\n",
       "          const docLinkHtml = 'Like what you see? Visit the ' +\n",
       "            '<a target=\"_blank\" href=https://colab.research.google.com/notebooks/data_table.ipynb>data table notebook</a>'\n",
       "            + ' to learn more about interactive tables.';\n",
       "          element.innerHTML = '';\n",
       "          dataTable['output_type'] = 'display_data';\n",
       "          await google.colab.output.renderOutput(dataTable, element);\n",
       "          const docLink = document.createElement('div');\n",
       "          docLink.innerHTML = docLinkHtml;\n",
       "          element.appendChild(docLink);\n",
       "        }\n",
       "      </script>\n",
       "    </div>\n",
       "  </div>\n",
       "  "
      ],
      "text/plain": [
       "               name               email mobile_number  \\\n",
       "0  ENGINEER Softwrd  csponkoj@gmail.com    8801521333   \n",
       "\n",
       "                                              skills college_name  \\\n",
       "0  [Mathematics, C, Python, Mysql, Analysis, Webs...         None   \n",
       "\n",
       "                 degree                                        designation  \\\n",
       "0  [csponkoj@gmail.com]  [DATA ANALYST, BUSINESS INTELLIGENCE ANALYST, ...   \n",
       "\n",
       "                                          experience  company_names  \\\n",
       "0  [Multimodal  Hate  Speech  Detection  Using  M...  [Truck Lagbe]   \n",
       "\n",
       "   no_of_pages  total_experience  \n",
       "0            2               0.0  "
      ]
     },
     "execution_count": 92,
     "metadata": {},
     "output_type": "execute_result"
    }
   ],
   "source": [
    "df = pd.json_normalize(data) \n",
    "df"
   ]
  },
  {
   "cell_type": "code",
   "execution_count": 47,
   "metadata": {
    "colab": {
     "base_uri": "https://localhost:8080/",
     "height": 81
    },
    "id": "LiBPydmG6V2K",
    "outputId": "9a4c2a0e-6aab-4d15-f993-13749dc507f2"
   },
   "outputs": [
    {
     "data": {
      "text/html": [
       "\n",
       "  <div id=\"df-ef573976-d7f5-4fca-b94a-5750f7cbdf6e\">\n",
       "    <div class=\"colab-df-container\">\n",
       "      <div>\n",
       "<style scoped>\n",
       "    .dataframe tbody tr th:only-of-type {\n",
       "        vertical-align: middle;\n",
       "    }\n",
       "\n",
       "    .dataframe tbody tr th {\n",
       "        vertical-align: top;\n",
       "    }\n",
       "\n",
       "    .dataframe thead th {\n",
       "        text-align: right;\n",
       "    }\n",
       "</style>\n",
       "<table border=\"1\" class=\"dataframe\">\n",
       "  <thead>\n",
       "    <tr style=\"text-align: right;\">\n",
       "      <th></th>\n",
       "      <th>email</th>\n",
       "      <th>skills</th>\n",
       "    </tr>\n",
       "  </thead>\n",
       "  <tbody>\n",
       "    <tr>\n",
       "      <th>0</th>\n",
       "      <td>csponkoj@gmail.com</td>\n",
       "      <td>[Mathematics, C, Python, Mysql, Analysis, Webs...</td>\n",
       "    </tr>\n",
       "  </tbody>\n",
       "</table>\n",
       "</div>\n",
       "      <button class=\"colab-df-convert\" onclick=\"convertToInteractive('df-ef573976-d7f5-4fca-b94a-5750f7cbdf6e')\"\n",
       "              title=\"Convert this dataframe to an interactive table.\"\n",
       "              style=\"display:none;\">\n",
       "        \n",
       "  <svg xmlns=\"http://www.w3.org/2000/svg\" height=\"24px\"viewBox=\"0 0 24 24\"\n",
       "       width=\"24px\">\n",
       "    <path d=\"M0 0h24v24H0V0z\" fill=\"none\"/>\n",
       "    <path d=\"M18.56 5.44l.94 2.06.94-2.06 2.06-.94-2.06-.94-.94-2.06-.94 2.06-2.06.94zm-11 1L8.5 8.5l.94-2.06 2.06-.94-2.06-.94L8.5 2.5l-.94 2.06-2.06.94zm10 10l.94 2.06.94-2.06 2.06-.94-2.06-.94-.94-2.06-.94 2.06-2.06.94z\"/><path d=\"M17.41 7.96l-1.37-1.37c-.4-.4-.92-.59-1.43-.59-.52 0-1.04.2-1.43.59L10.3 9.45l-7.72 7.72c-.78.78-.78 2.05 0 2.83L4 21.41c.39.39.9.59 1.41.59.51 0 1.02-.2 1.41-.59l7.78-7.78 2.81-2.81c.8-.78.8-2.07 0-2.86zM5.41 20L4 18.59l7.72-7.72 1.47 1.35L5.41 20z\"/>\n",
       "  </svg>\n",
       "      </button>\n",
       "      \n",
       "  <style>\n",
       "    .colab-df-container {\n",
       "      display:flex;\n",
       "      flex-wrap:wrap;\n",
       "      gap: 12px;\n",
       "    }\n",
       "\n",
       "    .colab-df-convert {\n",
       "      background-color: #E8F0FE;\n",
       "      border: none;\n",
       "      border-radius: 50%;\n",
       "      cursor: pointer;\n",
       "      display: none;\n",
       "      fill: #1967D2;\n",
       "      height: 32px;\n",
       "      padding: 0 0 0 0;\n",
       "      width: 32px;\n",
       "    }\n",
       "\n",
       "    .colab-df-convert:hover {\n",
       "      background-color: #E2EBFA;\n",
       "      box-shadow: 0px 1px 2px rgba(60, 64, 67, 0.3), 0px 1px 3px 1px rgba(60, 64, 67, 0.15);\n",
       "      fill: #174EA6;\n",
       "    }\n",
       "\n",
       "    [theme=dark] .colab-df-convert {\n",
       "      background-color: #3B4455;\n",
       "      fill: #D2E3FC;\n",
       "    }\n",
       "\n",
       "    [theme=dark] .colab-df-convert:hover {\n",
       "      background-color: #434B5C;\n",
       "      box-shadow: 0px 1px 3px 1px rgba(0, 0, 0, 0.15);\n",
       "      filter: drop-shadow(0px 1px 2px rgba(0, 0, 0, 0.3));\n",
       "      fill: #FFFFFF;\n",
       "    }\n",
       "  </style>\n",
       "\n",
       "      <script>\n",
       "        const buttonEl =\n",
       "          document.querySelector('#df-ef573976-d7f5-4fca-b94a-5750f7cbdf6e button.colab-df-convert');\n",
       "        buttonEl.style.display =\n",
       "          google.colab.kernel.accessAllowed ? 'block' : 'none';\n",
       "\n",
       "        async function convertToInteractive(key) {\n",
       "          const element = document.querySelector('#df-ef573976-d7f5-4fca-b94a-5750f7cbdf6e');\n",
       "          const dataTable =\n",
       "            await google.colab.kernel.invokeFunction('convertToInteractive',\n",
       "                                                     [key], {});\n",
       "          if (!dataTable) return;\n",
       "\n",
       "          const docLinkHtml = 'Like what you see? Visit the ' +\n",
       "            '<a target=\"_blank\" href=https://colab.research.google.com/notebooks/data_table.ipynb>data table notebook</a>'\n",
       "            + ' to learn more about interactive tables.';\n",
       "          element.innerHTML = '';\n",
       "          dataTable['output_type'] = 'display_data';\n",
       "          await google.colab.output.renderOutput(dataTable, element);\n",
       "          const docLink = document.createElement('div');\n",
       "          docLink.innerHTML = docLinkHtml;\n",
       "          element.appendChild(docLink);\n",
       "        }\n",
       "      </script>\n",
       "    </div>\n",
       "  </div>\n",
       "  "
      ],
      "text/plain": [
       "                email                                             skills\n",
       "0  csponkoj@gmail.com  [Mathematics, C, Python, Mysql, Analysis, Webs..."
      ]
     },
     "execution_count": 47,
     "metadata": {},
     "output_type": "execute_result"
    }
   ],
   "source": [
    "df_ = pd.DataFrame(df, columns = ['email', 'skills']) \n",
    "df_"
   ]
  },
  {
   "cell_type": "code",
   "execution_count": 94,
   "metadata": {
    "colab": {
     "base_uri": "https://localhost:8080/"
    },
    "id": "ssxhoLzKvgby",
    "outputId": "cce4e9f9-f92d-4d19-f13a-113ad9fa880d"
   },
   "outputs": [
    {
     "data": {
      "text/plain": [
       "array([list(['Mathematics', 'C', 'Python', 'Mysql', 'Analysis', 'Website', 'Github', 'Spacy', 'Postgresql', 'Ai', 'Engineering', 'English', 'Video', 'Pandas', 'Aws', 'Sqlalchemy', 'Seaborn', 'Teaching', 'Java', 'Audio', 'Tableau', 'Scipy', 'Automation', 'P', 'Data analysis', 'Programming', 'Sql', 'Gensim', 'Pymongo', 'R', 'Analyze', 'Pytorch', 'Nltk', 'Matplotlib', 'Content', 'Keras', 'Research', 'Analyze data', 'Numpy', 'Etl', 'Fuzzywuzzy', 'C++', 'Opencv', 'Machine learning'])],\n",
       "      dtype=object)"
      ]
     },
     "execution_count": 94,
     "metadata": {},
     "output_type": "execute_result"
    }
   ],
   "source": [
    "df_['skills'].values"
   ]
  },
  {
   "cell_type": "code",
   "execution_count": 100,
   "metadata": {
    "colab": {
     "base_uri": "https://localhost:8080/"
    },
    "id": "su2QSt7U3Ze-",
    "outputId": "002fdf25-e062-4900-9ec4-6dd3ba8b87dd"
   },
   "outputs": [
    {
     "data": {
      "text/plain": [
       "['Mathematics',\n",
       " 'C',\n",
       " 'Python',\n",
       " 'Mysql',\n",
       " 'Analysis',\n",
       " 'Website',\n",
       " 'Github',\n",
       " 'Spacy',\n",
       " 'Postgresql',\n",
       " 'Ai',\n",
       " 'Engineering',\n",
       " 'English',\n",
       " 'Video',\n",
       " 'Pandas',\n",
       " 'Aws',\n",
       " 'Sqlalchemy',\n",
       " 'Seaborn',\n",
       " 'Teaching',\n",
       " 'Java',\n",
       " 'Audio',\n",
       " 'Tableau',\n",
       " 'Scipy',\n",
       " 'Automation',\n",
       " 'P',\n",
       " 'Data analysis',\n",
       " 'Programming',\n",
       " 'Sql',\n",
       " 'Gensim',\n",
       " 'Pymongo',\n",
       " 'R',\n",
       " 'Analyze',\n",
       " 'Pytorch',\n",
       " 'Nltk',\n",
       " 'Matplotlib',\n",
       " 'Content',\n",
       " 'Keras',\n",
       " 'Research',\n",
       " 'Analyze data',\n",
       " 'Numpy',\n",
       " 'Etl',\n",
       " 'Fuzzywuzzy',\n",
       " 'C++',\n",
       " 'Opencv',\n",
       " 'Machine learning']"
      ]
     },
     "execution_count": 100,
     "metadata": {},
     "output_type": "execute_result"
    }
   ],
   "source": [
    "for i in df_['skills'].tolist():\n",
    "  if i : \n",
    "    a = i\n",
    "a"
   ]
  },
  {
   "cell_type": "code",
   "execution_count": 15,
   "metadata": {
    "colab": {
     "base_uri": "https://localhost:8080/"
    },
    "id": "wtUDK_zhwpHC",
    "outputId": "b48c11be-35d0-4f64-9670-94140539d09b"
   },
   "outputs": [
    {
     "name": "stdout",
     "output_type": "stream",
     "text": [
      "Collecting fuzzywuzzy\n",
      "  Downloading fuzzywuzzy-0.18.0-py2.py3-none-any.whl (18 kB)\n",
      "Installing collected packages: fuzzywuzzy\n",
      "Successfully installed fuzzywuzzy-0.18.0\n"
     ]
    }
   ],
   "source": [
    "!pip install fuzzywuzzy"
   ]
  },
  {
   "cell_type": "code",
   "execution_count": 16,
   "metadata": {
    "id": "_1OKdZh_wtqx"
   },
   "outputs": [],
   "source": [
    "from fuzzywuzzy import fuzz"
   ]
  },
  {
   "cell_type": "code",
   "execution_count": 24,
   "metadata": {
    "id": "GIeLTgriwxZ5"
   },
   "outputs": [],
   "source": [
    "Str1 = 'Mysql'\n",
    "Str2 = 'SQL'"
   ]
  },
  {
   "cell_type": "code",
   "execution_count": 25,
   "metadata": {
    "colab": {
     "base_uri": "https://localhost:8080/"
    },
    "id": "SAaorC_IwvvB",
    "outputId": "bd73aa6c-c25d-418f-f374-16f759131f01"
   },
   "outputs": [
    {
     "name": "stdout",
     "output_type": "stream",
     "text": [
      "75\n"
     ]
    }
   ],
   "source": [
    "Ratio = fuzz.ratio(Str1.lower(),Str2.lower())\n",
    "print(Ratio)"
   ]
  },
  {
   "cell_type": "code",
   "execution_count": 23,
   "metadata": {
    "colab": {
     "base_uri": "https://localhost:8080/"
    },
    "id": "KDQ8nIHvxDUx",
    "outputId": "634a0fc2-41bd-4fe3-fe2f-0b933fea169e"
   },
   "outputs": [
    {
     "name": "stdout",
     "output_type": "stream",
     "text": [
      "100\n"
     ]
    }
   ],
   "source": [
    "print(fuzz.partial_ratio(Str1.lower(),Str2.lower()))"
   ]
  },
  {
   "cell_type": "code",
   "execution_count": 91,
   "metadata": {
    "colab": {
     "base_uri": "https://localhost:8080/"
    },
    "id": "7tKppUKtznfA",
    "outputId": "7db4ece1-ed24-4979-e1e5-23dc2ce8fe0c"
   },
   "outputs": [
    {
     "data": {
      "text/plain": [
       "array([list(['Mathematics', 'C', 'Python', 'Mysql', 'Analysis', 'Website', 'Github', 'Spacy', 'Postgresql', 'Ai', 'Engineering', 'English', 'Video', 'Pandas', 'Aws', 'Sqlalchemy', 'Seaborn', 'Teaching', 'Java', 'Audio', 'Tableau', 'Scipy', 'Automation', 'P', 'Data analysis', 'Programming', 'Sql', 'Gensim', 'Pymongo', 'R', 'Analyze', 'Pytorch', 'Nltk', 'Matplotlib', 'Content', 'Keras', 'Research', 'Analyze data', 'Numpy', 'Etl', 'Fuzzywuzzy', 'C++', 'Opencv', 'Machine learning'])],\n",
       "      dtype=object)"
      ]
     },
     "execution_count": 91,
     "metadata": {},
     "output_type": "execute_result"
    }
   ],
   "source": [
    "a = df_['skills'].values\n",
    "a"
   ]
  },
  {
   "cell_type": "code",
   "execution_count": 102,
   "metadata": {
    "id": "9es3RlX54Npu"
   },
   "outputs": [],
   "source": [
    "for i in df_['skills'].tolist():\n",
    "  if i : \n",
    "    a = i"
   ]
  },
  {
   "cell_type": "code",
   "execution_count": 103,
   "metadata": {
    "colab": {
     "base_uri": "https://localhost:8080/"
    },
    "id": "WkMrMZZb4nH1",
    "outputId": "4d4831cd-31c6-4b94-d88e-85820b03d7f2"
   },
   "outputs": [
    {
     "data": {
      "text/plain": [
       "['Mathematics',\n",
       " 'C',\n",
       " 'Python',\n",
       " 'Mysql',\n",
       " 'Analysis',\n",
       " 'Website',\n",
       " 'Github',\n",
       " 'Spacy',\n",
       " 'Postgresql',\n",
       " 'Ai',\n",
       " 'Engineering',\n",
       " 'English',\n",
       " 'Video',\n",
       " 'Pandas',\n",
       " 'Aws',\n",
       " 'Sqlalchemy',\n",
       " 'Seaborn',\n",
       " 'Teaching',\n",
       " 'Java',\n",
       " 'Audio',\n",
       " 'Tableau',\n",
       " 'Scipy',\n",
       " 'Automation',\n",
       " 'P',\n",
       " 'Data analysis',\n",
       " 'Programming',\n",
       " 'Sql',\n",
       " 'Gensim',\n",
       " 'Pymongo',\n",
       " 'R',\n",
       " 'Analyze',\n",
       " 'Pytorch',\n",
       " 'Nltk',\n",
       " 'Matplotlib',\n",
       " 'Content',\n",
       " 'Keras',\n",
       " 'Research',\n",
       " 'Analyze data',\n",
       " 'Numpy',\n",
       " 'Etl',\n",
       " 'Fuzzywuzzy',\n",
       " 'C++',\n",
       " 'Opencv',\n",
       " 'Machine learning']"
      ]
     },
     "execution_count": 103,
     "metadata": {},
     "output_type": "execute_result"
    }
   ],
   "source": [
    "a"
   ]
  },
  {
   "cell_type": "code",
   "execution_count": 109,
   "metadata": {
    "colab": {
     "base_uri": "https://localhost:8080/"
    },
    "id": "lo_FlJOzwVv5",
    "outputId": "6c06ca85-de85-411f-f0e3-23d3e309eaa8"
   },
   "outputs": [
    {
     "name": "stdout",
     "output_type": "stream",
     "text": [
      "---------------------\n",
      "Pytorch 100\n",
      "---------------------\n",
      "Nltk 100\n",
      "---------------------\n",
      "Matplotlib 100\n",
      "---------------------\n",
      "Content 100\n",
      "---------------------\n",
      "Keras 100\n",
      "---------------------\n",
      "Research 100\n",
      "---------------------\n",
      "Analyze 74\n",
      "---------------------\n",
      "Analyze data 100\n"
     ]
    }
   ],
   "source": [
    "L = ['Pytorch','Nltk', 'Matplotlib', 'Content', 'Keras', 'Research', 'Analyze data']\n",
    "sk = []\n",
    "for i in L:\n",
    "  # print(i) \n",
    "  for s in a:\n",
    "    # print(s)\n",
    "    Ratio = fuzz.ratio(s.lower(),i.lower())\n",
    "    if Ratio >= 70 :\n",
    "      sk.append(s)\n",
    "      print('---------------------')\n",
    "      print(s, Ratio)\n"
   ]
  },
  {
   "cell_type": "code",
   "execution_count": 110,
   "metadata": {
    "colab": {
     "base_uri": "https://localhost:8080/"
    },
    "id": "D7eESjlf40Ut",
    "outputId": "210e4064-5ee4-41c7-e2bd-a0d457d3b71e"
   },
   "outputs": [
    {
     "data": {
      "text/plain": [
       "['Pytorch',\n",
       " 'Nltk',\n",
       " 'Matplotlib',\n",
       " 'Content',\n",
       " 'Keras',\n",
       " 'Research',\n",
       " 'Analyze',\n",
       " 'Analyze data']"
      ]
     },
     "execution_count": 110,
     "metadata": {},
     "output_type": "execute_result"
    }
   ],
   "source": [
    "sk"
   ]
  },
  {
   "cell_type": "code",
   "execution_count": null,
   "metadata": {
    "id": "PJw6I6JlyXNR"
   },
   "outputs": [],
   "source": []
  },
  {
   "cell_type": "markdown",
   "metadata": {
    "id": "FUSWl7IEV27_"
   },
   "source": [
    ">Text Processing"
   ]
  },
  {
   "cell_type": "markdown",
   "metadata": {
    "id": "qWaL_oqEVQwi"
   },
   "source": [
    "***"
   ]
  },
  {
   "cell_type": "markdown",
   "metadata": {
    "id": "W1w1LNaGW0xm"
   },
   "source": [
    "> - The first step towards vectorization is to perform tokenization that splits documents into list of units(Words, Alphabets, Sentences). As the skills are in list format, already in tokens, we would skip this part. "
   ]
  },
  {
   "cell_type": "markdown",
   "metadata": {
    "id": "6pceNPZNZddj"
   },
   "source": [
    "> - "
   ]
  },
  {
   "cell_type": "code",
   "execution_count": 34,
   "metadata": {
    "id": "ZVgXINkbJMLP"
   },
   "outputs": [],
   "source": [
    "from nltk.stem import WordNetLemmatizer\n",
    " \n",
    "\n",
    "def clean(text):\n",
    "    \n",
    "    # convert to lowercase\n",
    "    text = str(text).lower()  \n",
    "    \n",
    "    # remove single characters\n",
    "    text = re.sub(pattern=r'\\s+[a-zA-Z]\\s+',repl='',string = text) \n",
    "    \n",
    "    # Remove URls, whitespace characters  \n",
    "    text = re.sub(r'https?://\\S+|www\\.\\S+',repl='',string = text)  \n",
    "    \n",
    "    # Removes all the special characters, digits from 0-9 and Capital Letters  \n",
    "    text = re.sub(r'[^a-z\\s]',' ',string = text)\n",
    "    \n",
    "    # Substituting multiple spaces with single space\n",
    "    text = re.sub(r'\\s+', ' ', string = text)  \n",
    "    \n",
    "    # create stemming object\n",
    "    # ps = PorterStemmer()\n",
    "    lemmatizer = WordNetLemmatizer()\n",
    "    text = [lemmatizer.lemmatize(word) for word in text.split() if not word in set(stopwords.words('english'))]\n",
    "    text = ' '.join(text)\n",
    "    #text = list(text)\n",
    "    return text"
   ]
  },
  {
   "cell_type": "code",
   "execution_count": 38,
   "metadata": {
    "colab": {
     "base_uri": "https://localhost:8080/"
    },
    "id": "M9jfHi_VyJXy",
    "outputId": "bf279a12-7383-4732-cfd1-7502121c2ed7"
   },
   "outputs": [
    {
     "name": "stderr",
     "output_type": "stream",
     "text": [
      "[nltk_data] Downloading package wordnet to /root/nltk_data...\n",
      "[nltk_data]   Package wordnet is already up-to-date!\n",
      "[nltk_data] Downloading package omw-1.4 to /root/nltk_data...\n",
      "[nltk_data]   Unzipping corpora/omw-1.4.zip.\n"
     ]
    },
    {
     "data": {
      "text/plain": [
       "True"
      ]
     },
     "execution_count": 38,
     "metadata": {},
     "output_type": "execute_result"
    }
   ],
   "source": [
    "nltk.download('wordnet')\n",
    "nltk.download('omw-1.4')"
   ]
  },
  {
   "cell_type": "code",
   "execution_count": 39,
   "metadata": {
    "colab": {
     "base_uri": "https://localhost:8080/",
     "height": 81
    },
    "id": "UFjW07CZJMDs",
    "outputId": "8ade3d8a-0d32-490d-bd84-748853574b05"
   },
   "outputs": [
    {
     "data": {
      "text/html": [
       "\n",
       "  <div id=\"df-a1bf557a-024e-4e5d-888f-8c42346de023\">\n",
       "    <div class=\"colab-df-container\">\n",
       "      <div>\n",
       "<style scoped>\n",
       "    .dataframe tbody tr th:only-of-type {\n",
       "        vertical-align: middle;\n",
       "    }\n",
       "\n",
       "    .dataframe tbody tr th {\n",
       "        vertical-align: top;\n",
       "    }\n",
       "\n",
       "    .dataframe thead th {\n",
       "        text-align: right;\n",
       "    }\n",
       "</style>\n",
       "<table border=\"1\" class=\"dataframe\">\n",
       "  <thead>\n",
       "    <tr style=\"text-align: right;\">\n",
       "      <th></th>\n",
       "      <th>email</th>\n",
       "      <th>skills</th>\n",
       "    </tr>\n",
       "  </thead>\n",
       "  <tbody>\n",
       "    <tr>\n",
       "      <th>0</th>\n",
       "      <td>csponkoj@gmail.com</td>\n",
       "      <td>mathematics c python mysql analysis website gi...</td>\n",
       "    </tr>\n",
       "  </tbody>\n",
       "</table>\n",
       "</div>\n",
       "      <button class=\"colab-df-convert\" onclick=\"convertToInteractive('df-a1bf557a-024e-4e5d-888f-8c42346de023')\"\n",
       "              title=\"Convert this dataframe to an interactive table.\"\n",
       "              style=\"display:none;\">\n",
       "        \n",
       "  <svg xmlns=\"http://www.w3.org/2000/svg\" height=\"24px\"viewBox=\"0 0 24 24\"\n",
       "       width=\"24px\">\n",
       "    <path d=\"M0 0h24v24H0V0z\" fill=\"none\"/>\n",
       "    <path d=\"M18.56 5.44l.94 2.06.94-2.06 2.06-.94-2.06-.94-.94-2.06-.94 2.06-2.06.94zm-11 1L8.5 8.5l.94-2.06 2.06-.94-2.06-.94L8.5 2.5l-.94 2.06-2.06.94zm10 10l.94 2.06.94-2.06 2.06-.94-2.06-.94-.94-2.06-.94 2.06-2.06.94z\"/><path d=\"M17.41 7.96l-1.37-1.37c-.4-.4-.92-.59-1.43-.59-.52 0-1.04.2-1.43.59L10.3 9.45l-7.72 7.72c-.78.78-.78 2.05 0 2.83L4 21.41c.39.39.9.59 1.41.59.51 0 1.02-.2 1.41-.59l7.78-7.78 2.81-2.81c.8-.78.8-2.07 0-2.86zM5.41 20L4 18.59l7.72-7.72 1.47 1.35L5.41 20z\"/>\n",
       "  </svg>\n",
       "      </button>\n",
       "      \n",
       "  <style>\n",
       "    .colab-df-container {\n",
       "      display:flex;\n",
       "      flex-wrap:wrap;\n",
       "      gap: 12px;\n",
       "    }\n",
       "\n",
       "    .colab-df-convert {\n",
       "      background-color: #E8F0FE;\n",
       "      border: none;\n",
       "      border-radius: 50%;\n",
       "      cursor: pointer;\n",
       "      display: none;\n",
       "      fill: #1967D2;\n",
       "      height: 32px;\n",
       "      padding: 0 0 0 0;\n",
       "      width: 32px;\n",
       "    }\n",
       "\n",
       "    .colab-df-convert:hover {\n",
       "      background-color: #E2EBFA;\n",
       "      box-shadow: 0px 1px 2px rgba(60, 64, 67, 0.3), 0px 1px 3px 1px rgba(60, 64, 67, 0.15);\n",
       "      fill: #174EA6;\n",
       "    }\n",
       "\n",
       "    [theme=dark] .colab-df-convert {\n",
       "      background-color: #3B4455;\n",
       "      fill: #D2E3FC;\n",
       "    }\n",
       "\n",
       "    [theme=dark] .colab-df-convert:hover {\n",
       "      background-color: #434B5C;\n",
       "      box-shadow: 0px 1px 3px 1px rgba(0, 0, 0, 0.15);\n",
       "      filter: drop-shadow(0px 1px 2px rgba(0, 0, 0, 0.3));\n",
       "      fill: #FFFFFF;\n",
       "    }\n",
       "  </style>\n",
       "\n",
       "      <script>\n",
       "        const buttonEl =\n",
       "          document.querySelector('#df-a1bf557a-024e-4e5d-888f-8c42346de023 button.colab-df-convert');\n",
       "        buttonEl.style.display =\n",
       "          google.colab.kernel.accessAllowed ? 'block' : 'none';\n",
       "\n",
       "        async function convertToInteractive(key) {\n",
       "          const element = document.querySelector('#df-a1bf557a-024e-4e5d-888f-8c42346de023');\n",
       "          const dataTable =\n",
       "            await google.colab.kernel.invokeFunction('convertToInteractive',\n",
       "                                                     [key], {});\n",
       "          if (!dataTable) return;\n",
       "\n",
       "          const docLinkHtml = 'Like what you see? Visit the ' +\n",
       "            '<a target=\"_blank\" href=https://colab.research.google.com/notebooks/data_table.ipynb>data table notebook</a>'\n",
       "            + ' to learn more about interactive tables.';\n",
       "          element.innerHTML = '';\n",
       "          dataTable['output_type'] = 'display_data';\n",
       "          await google.colab.output.renderOutput(dataTable, element);\n",
       "          const docLink = document.createElement('div');\n",
       "          docLink.innerHTML = docLinkHtml;\n",
       "          element.appendChild(docLink);\n",
       "        }\n",
       "      </script>\n",
       "    </div>\n",
       "  </div>\n",
       "  "
      ],
      "text/plain": [
       "                email                                             skills\n",
       "0  csponkoj@gmail.com  mathematics c python mysql analysis website gi..."
      ]
     },
     "execution_count": 39,
     "metadata": {},
     "output_type": "execute_result"
    }
   ],
   "source": [
    "df_['skills'] = df_['skills'].apply(lambda x: clean(x))\n",
    "df_"
   ]
  },
  {
   "cell_type": "code",
   "execution_count": 40,
   "metadata": {
    "colab": {
     "base_uri": "https://localhost:8080/"
    },
    "id": "qIVCqkvTxbR5",
    "outputId": "7b32d323-12a7-4cfc-b65d-8bf9af2598b1"
   },
   "outputs": [
    {
     "data": {
      "text/plain": [
       "['mathematics c python mysql analysis website github spacy postgresql ai engineering english video panda aws sqlalchemy seaborn teaching java audio tableau scipy automation p data analysis programming sql gensim pymongo r analyze pytorch nltk matplotlib content kera research analyze data numpy etl fuzzywuzzy c opencv machine learning']"
      ]
     },
     "execution_count": 40,
     "metadata": {},
     "output_type": "execute_result"
    }
   ],
   "source": [
    "df_['skills'].tolist()"
   ]
  },
  {
   "cell_type": "code",
   "execution_count": null,
   "metadata": {
    "colab": {
     "base_uri": "https://localhost:8080/"
    },
    "id": "XkxqgRuOJL7E",
    "outputId": "a5b96769-d959-4786-802c-73c859cd0ba4"
   },
   "outputs": [
    {
     "name": "stdout",
     "output_type": "stream",
     "text": [
      "0    matplotlib audio video websit system c ai cont...\n",
      "Name: skills, dtype: object\n"
     ]
    }
   ],
   "source": [
    "print(df_['skills'])"
   ]
  },
  {
   "cell_type": "code",
   "execution_count": null,
   "metadata": {
    "id": "ZKTzW8JgJLw1"
   },
   "outputs": [],
   "source": [
    "#CounterVectorizer\n",
    "#bag of words\n",
    "from sklearn.feature_extraction.text import CountVectorizer\n",
    "cv = CountVectorizer(analyzer= 'word',ngram_range=(1,2), max_features = 100)\n",
    "X = cv.fit_transform(df_['skills']).toarray()"
   ]
  },
  {
   "cell_type": "code",
   "execution_count": null,
   "metadata": {
    "colab": {
     "base_uri": "https://localhost:8080/"
    },
    "id": "Uf6Pc0v9glPj",
    "outputId": "07c1f0f5-b481-465d-ffc6-4ed1110fb6d8"
   },
   "outputs": [
    {
     "data": {
      "text/plain": [
       "['ai',\n",
       " 'ai content',\n",
       " 'algorithm',\n",
       " 'algorithm databas',\n",
       " 'analysi',\n",
       " 'analysi busi',\n",
       " 'analysi github',\n",
       " 'analyz',\n",
       " 'analyz autom',\n",
       " 'analyz data',\n",
       " 'audio',\n",
       " 'audio video',\n",
       " 'autom',\n",
       " 'autom analysi',\n",
       " 'aw',\n",
       " 'aw jupyt',\n",
       " 'busi',\n",
       " 'busi intellig',\n",
       " 'content',\n",
       " 'content matrix',\n",
       " 'data',\n",
       " 'data analysi',\n",
       " 'data engin',\n",
       " 'databas',\n",
       " 'databas panda',\n",
       " 'dataset',\n",
       " 'dataset mysql',\n",
       " 'engin',\n",
       " 'engin etl',\n",
       " 'etl',\n",
       " 'etl numpi',\n",
       " 'excel',\n",
       " 'excel algorithm',\n",
       " 'forecast',\n",
       " 'forecast python',\n",
       " 'github',\n",
       " 'github program',\n",
       " 'intellig',\n",
       " 'intellig dataset',\n",
       " 'jupyt',\n",
       " 'jupyt research',\n",
       " 'learn',\n",
       " 'learn pycharm',\n",
       " 'machin',\n",
       " 'machin learn',\n",
       " 'mathemat',\n",
       " 'mathemat data',\n",
       " 'matplotlib',\n",
       " 'matplotlib audio',\n",
       " 'matrix',\n",
       " 'matrix sql',\n",
       " 'mysql',\n",
       " 'mysql forecast',\n",
       " 'numpi',\n",
       " 'numpi sqlalchemi',\n",
       " 'panda',\n",
       " 'panda analyz',\n",
       " 'program',\n",
       " 'pycharm',\n",
       " 'pycharm tableau',\n",
       " 'python',\n",
       " 'python aw',\n",
       " 'research',\n",
       " 'research mathemat',\n",
       " 'sql',\n",
       " 'sql machin',\n",
       " 'sqlalchemi',\n",
       " 'sqlalchemi analyz',\n",
       " 'system',\n",
       " 'system ai',\n",
       " 'tableau',\n",
       " 'tableau excel',\n",
       " 'video',\n",
       " 'video websit',\n",
       " 'websit',\n",
       " 'websit system']"
      ]
     },
     "execution_count": 17,
     "metadata": {},
     "output_type": "execute_result"
    }
   ],
   "source": [
    "cv.get_feature_names()[:]"
   ]
  },
  {
   "cell_type": "code",
   "execution_count": null,
   "metadata": {
    "colab": {
     "base_uri": "https://localhost:8080/"
    },
    "id": "cV7KXua3glaG",
    "outputId": "eab7ceb3-a8fc-4d89-81f5-e89eb2b1c281"
   },
   "outputs": [
    {
     "data": {
      "text/plain": [
       "{'analyzer': 'word',\n",
       " 'binary': False,\n",
       " 'decode_error': 'strict',\n",
       " 'dtype': numpy.int64,\n",
       " 'encoding': 'utf-8',\n",
       " 'input': 'content',\n",
       " 'lowercase': True,\n",
       " 'max_df': 1.0,\n",
       " 'max_features': 100,\n",
       " 'min_df': 1,\n",
       " 'ngram_range': (1, 2),\n",
       " 'preprocessor': None,\n",
       " 'stop_words': None,\n",
       " 'strip_accents': None,\n",
       " 'token_pattern': '(?u)\\\\b\\\\w\\\\w+\\\\b',\n",
       " 'tokenizer': None,\n",
       " 'vocabulary': None}"
      ]
     },
     "execution_count": 18,
     "metadata": {},
     "output_type": "execute_result"
    }
   ],
   "source": [
    "cv.get_params()"
   ]
  },
  {
   "cell_type": "code",
   "execution_count": null,
   "metadata": {
    "colab": {
     "base_uri": "https://localhost:8080/"
    },
    "id": "HvW_ZFXBglgu",
    "outputId": "d624a2f0-8707-4c0b-edbe-5b95cb21426f"
   },
   "outputs": [
    {
     "data": {
      "text/plain": [
       "{'ai': 0,\n",
       " 'ai content': 1,\n",
       " 'algorithm': 2,\n",
       " 'algorithm databas': 3,\n",
       " 'analysi': 4,\n",
       " 'analysi busi': 5,\n",
       " 'analysi github': 6,\n",
       " 'analyz': 7,\n",
       " 'analyz autom': 8,\n",
       " 'analyz data': 9,\n",
       " 'audio': 10,\n",
       " 'audio video': 11,\n",
       " 'autom': 12,\n",
       " 'autom analysi': 13,\n",
       " 'aw': 14,\n",
       " 'aw jupyt': 15,\n",
       " 'busi': 16,\n",
       " 'busi intellig': 17,\n",
       " 'content': 18,\n",
       " 'content matrix': 19,\n",
       " 'data': 20,\n",
       " 'data analysi': 21,\n",
       " 'data engin': 22,\n",
       " 'databas': 23,\n",
       " 'databas panda': 24,\n",
       " 'dataset': 25,\n",
       " 'dataset mysql': 26,\n",
       " 'engin': 27,\n",
       " 'engin etl': 28,\n",
       " 'etl': 29,\n",
       " 'etl numpi': 30,\n",
       " 'excel': 31,\n",
       " 'excel algorithm': 32,\n",
       " 'forecast': 33,\n",
       " 'forecast python': 34,\n",
       " 'github': 35,\n",
       " 'github program': 36,\n",
       " 'intellig': 37,\n",
       " 'intellig dataset': 38,\n",
       " 'jupyt': 39,\n",
       " 'jupyt research': 40,\n",
       " 'learn': 41,\n",
       " 'learn pycharm': 42,\n",
       " 'machin': 43,\n",
       " 'machin learn': 44,\n",
       " 'mathemat': 45,\n",
       " 'mathemat data': 46,\n",
       " 'matplotlib': 47,\n",
       " 'matplotlib audio': 48,\n",
       " 'matrix': 49,\n",
       " 'matrix sql': 50,\n",
       " 'mysql': 51,\n",
       " 'mysql forecast': 52,\n",
       " 'numpi': 53,\n",
       " 'numpi sqlalchemi': 54,\n",
       " 'panda': 55,\n",
       " 'panda analyz': 56,\n",
       " 'program': 57,\n",
       " 'pycharm': 58,\n",
       " 'pycharm tableau': 59,\n",
       " 'python': 60,\n",
       " 'python aw': 61,\n",
       " 'research': 62,\n",
       " 'research mathemat': 63,\n",
       " 'sql': 64,\n",
       " 'sql machin': 65,\n",
       " 'sqlalchemi': 66,\n",
       " 'sqlalchemi analyz': 67,\n",
       " 'system': 68,\n",
       " 'system ai': 69,\n",
       " 'tableau': 70,\n",
       " 'tableau excel': 71,\n",
       " 'video': 72,\n",
       " 'video websit': 73,\n",
       " 'websit': 74,\n",
       " 'websit system': 75}"
      ]
     },
     "execution_count": 19,
     "metadata": {},
     "output_type": "execute_result"
    }
   ],
   "source": [
    "skills_vocab = cv.vocabulary_\n",
    "skills_vocab"
   ]
  },
  {
   "cell_type": "code",
   "execution_count": null,
   "metadata": {
    "colab": {
     "base_uri": "https://localhost:8080/",
     "height": 191
    },
    "id": "f7EaLKLReLPl",
    "outputId": "7f8d01f7-3105-4c45-cf37-561271d5c87d"
   },
   "outputs": [
    {
     "data": {
      "text/html": [
       "\n",
       "  <div id=\"df-f43c8192-6be0-47ae-a7e5-c6fe955d6979\">\n",
       "    <div class=\"colab-df-container\">\n",
       "      <div>\n",
       "<style scoped>\n",
       "    .dataframe tbody tr th:only-of-type {\n",
       "        vertical-align: middle;\n",
       "    }\n",
       "\n",
       "    .dataframe tbody tr th {\n",
       "        vertical-align: top;\n",
       "    }\n",
       "\n",
       "    .dataframe thead th {\n",
       "        text-align: right;\n",
       "    }\n",
       "</style>\n",
       "<table border=\"1\" class=\"dataframe\">\n",
       "  <thead>\n",
       "    <tr style=\"text-align: right;\">\n",
       "      <th></th>\n",
       "      <th>ai</th>\n",
       "      <th>ai content</th>\n",
       "      <th>algorithm</th>\n",
       "      <th>algorithm databas</th>\n",
       "      <th>analysi</th>\n",
       "      <th>analysi busi</th>\n",
       "      <th>analysi github</th>\n",
       "      <th>analyz</th>\n",
       "      <th>analyz autom</th>\n",
       "      <th>analyz data</th>\n",
       "      <th>...</th>\n",
       "      <th>sqlalchemi</th>\n",
       "      <th>sqlalchemi analyz</th>\n",
       "      <th>system</th>\n",
       "      <th>system ai</th>\n",
       "      <th>tableau</th>\n",
       "      <th>tableau excel</th>\n",
       "      <th>video</th>\n",
       "      <th>video websit</th>\n",
       "      <th>websit</th>\n",
       "      <th>websit system</th>\n",
       "    </tr>\n",
       "  </thead>\n",
       "  <tbody>\n",
       "    <tr>\n",
       "      <th>0</th>\n",
       "      <td>NaN</td>\n",
       "      <td>NaN</td>\n",
       "      <td>NaN</td>\n",
       "      <td>NaN</td>\n",
       "      <td>NaN</td>\n",
       "      <td>NaN</td>\n",
       "      <td>NaN</td>\n",
       "      <td>NaN</td>\n",
       "      <td>NaN</td>\n",
       "      <td>NaN</td>\n",
       "      <td>...</td>\n",
       "      <td>NaN</td>\n",
       "      <td>NaN</td>\n",
       "      <td>NaN</td>\n",
       "      <td>NaN</td>\n",
       "      <td>NaN</td>\n",
       "      <td>NaN</td>\n",
       "      <td>NaN</td>\n",
       "      <td>NaN</td>\n",
       "      <td>NaN</td>\n",
       "      <td>NaN</td>\n",
       "    </tr>\n",
       "  </tbody>\n",
       "</table>\n",
       "<p>1 rows × 76 columns</p>\n",
       "</div>\n",
       "      <button class=\"colab-df-convert\" onclick=\"convertToInteractive('df-f43c8192-6be0-47ae-a7e5-c6fe955d6979')\"\n",
       "              title=\"Convert this dataframe to an interactive table.\"\n",
       "              style=\"display:none;\">\n",
       "        \n",
       "  <svg xmlns=\"http://www.w3.org/2000/svg\" height=\"24px\"viewBox=\"0 0 24 24\"\n",
       "       width=\"24px\">\n",
       "    <path d=\"M0 0h24v24H0V0z\" fill=\"none\"/>\n",
       "    <path d=\"M18.56 5.44l.94 2.06.94-2.06 2.06-.94-2.06-.94-.94-2.06-.94 2.06-2.06.94zm-11 1L8.5 8.5l.94-2.06 2.06-.94-2.06-.94L8.5 2.5l-.94 2.06-2.06.94zm10 10l.94 2.06.94-2.06 2.06-.94-2.06-.94-.94-2.06-.94 2.06-2.06.94z\"/><path d=\"M17.41 7.96l-1.37-1.37c-.4-.4-.92-.59-1.43-.59-.52 0-1.04.2-1.43.59L10.3 9.45l-7.72 7.72c-.78.78-.78 2.05 0 2.83L4 21.41c.39.39.9.59 1.41.59.51 0 1.02-.2 1.41-.59l7.78-7.78 2.81-2.81c.8-.78.8-2.07 0-2.86zM5.41 20L4 18.59l7.72-7.72 1.47 1.35L5.41 20z\"/>\n",
       "  </svg>\n",
       "      </button>\n",
       "      \n",
       "  <style>\n",
       "    .colab-df-container {\n",
       "      display:flex;\n",
       "      flex-wrap:wrap;\n",
       "      gap: 12px;\n",
       "    }\n",
       "\n",
       "    .colab-df-convert {\n",
       "      background-color: #E8F0FE;\n",
       "      border: none;\n",
       "      border-radius: 50%;\n",
       "      cursor: pointer;\n",
       "      display: none;\n",
       "      fill: #1967D2;\n",
       "      height: 32px;\n",
       "      padding: 0 0 0 0;\n",
       "      width: 32px;\n",
       "    }\n",
       "\n",
       "    .colab-df-convert:hover {\n",
       "      background-color: #E2EBFA;\n",
       "      box-shadow: 0px 1px 2px rgba(60, 64, 67, 0.3), 0px 1px 3px 1px rgba(60, 64, 67, 0.15);\n",
       "      fill: #174EA6;\n",
       "    }\n",
       "\n",
       "    [theme=dark] .colab-df-convert {\n",
       "      background-color: #3B4455;\n",
       "      fill: #D2E3FC;\n",
       "    }\n",
       "\n",
       "    [theme=dark] .colab-df-convert:hover {\n",
       "      background-color: #434B5C;\n",
       "      box-shadow: 0px 1px 3px 1px rgba(0, 0, 0, 0.15);\n",
       "      filter: drop-shadow(0px 1px 2px rgba(0, 0, 0, 0.3));\n",
       "      fill: #FFFFFF;\n",
       "    }\n",
       "  </style>\n",
       "\n",
       "      <script>\n",
       "        const buttonEl =\n",
       "          document.querySelector('#df-f43c8192-6be0-47ae-a7e5-c6fe955d6979 button.colab-df-convert');\n",
       "        buttonEl.style.display =\n",
       "          google.colab.kernel.accessAllowed ? 'block' : 'none';\n",
       "\n",
       "        async function convertToInteractive(key) {\n",
       "          const element = document.querySelector('#df-f43c8192-6be0-47ae-a7e5-c6fe955d6979');\n",
       "          const dataTable =\n",
       "            await google.colab.kernel.invokeFunction('convertToInteractive',\n",
       "                                                     [key], {});\n",
       "          if (!dataTable) return;\n",
       "\n",
       "          const docLinkHtml = 'Like what you see? Visit the ' +\n",
       "            '<a target=\"_blank\" href=https://colab.research.google.com/notebooks/data_table.ipynb>data table notebook</a>'\n",
       "            + ' to learn more about interactive tables.';\n",
       "          element.innerHTML = '';\n",
       "          dataTable['output_type'] = 'display_data';\n",
       "          await google.colab.output.renderOutput(dataTable, element);\n",
       "          const docLink = document.createElement('div');\n",
       "          docLink.innerHTML = docLinkHtml;\n",
       "          element.appendChild(docLink);\n",
       "        }\n",
       "      </script>\n",
       "    </div>\n",
       "  </div>\n",
       "  "
      ],
      "text/plain": [
       "   ai  ai content  algorithm  algorithm databas  analysi  analysi busi  \\\n",
       "0 NaN         NaN        NaN                NaN      NaN           NaN   \n",
       "\n",
       "   analysi github  analyz  analyz autom  analyz data  ...  sqlalchemi  \\\n",
       "0             NaN     NaN           NaN          NaN  ...         NaN   \n",
       "\n",
       "   sqlalchemi analyz  system  system ai  tableau  tableau excel  video  \\\n",
       "0                NaN     NaN        NaN      NaN            NaN    NaN   \n",
       "\n",
       "   video websit  websit  websit system  \n",
       "0           NaN     NaN            NaN  \n",
       "\n",
       "[1 rows x 76 columns]"
      ]
     },
     "execution_count": 20,
     "metadata": {},
     "output_type": "execute_result"
    }
   ],
   "source": [
    "bow_df = pd.DataFrame(df_, columns=cv.get_feature_names())\n",
    "bow_df"
   ]
  },
  {
   "cell_type": "code",
   "execution_count": null,
   "metadata": {
    "id": "n0K20CZLeLSr"
   },
   "outputs": [],
   "source": []
  },
  {
   "cell_type": "code",
   "execution_count": null,
   "metadata": {
    "id": "eY6Z-N0nslWw"
   },
   "outputs": [],
   "source": []
  },
  {
   "cell_type": "code",
   "execution_count": null,
   "metadata": {
    "id": "7Ih1YySTslgX"
   },
   "outputs": [],
   "source": []
  },
  {
   "cell_type": "code",
   "execution_count": null,
   "metadata": {
    "colab": {
     "base_uri": "https://localhost:8080/",
     "height": 122
    },
    "id": "rhPfBmXBCT68",
    "outputId": "e7546c93-8ec3-47e3-d6d7-b6c5040cbb38"
   },
   "outputs": [
    {
     "data": {
      "application/vnd.google.colaboratory.intrinsic+json": {
       "type": "string"
      },
      "text/plain": [
       "'name,email,mobile_number,skills,college_name,degree,designation,experience,company_names,no_of_pages,total_experience\\nBRAC University,csponkoj@gmail.com,016-2020,\"[\\'C++\\', \\'System\\', \\'Mysql\\', \\'Analysis\\', \\'Database\\', \\'Matrix\\', \\'P\\', \\'Jupyter\\', \\'Github\\', \\'Ai\\', \\'Data analysis\\', \\'C\\', \\'Tableau\\', \\'R\\', \\'Video\\', \\'Pycharm\\', \\'Algorithms\\', \\'Audio\\', \\'Content\\', \\'Programming\\', \\'Engineering\\', \\'Machine learning\\', \\'Datasets\\', \\'Python\\', \\'Excel\\', \\'Research\\', \\'Etl\\', \\'Analyze data\\', \\'Mathematics\\', \\'Pandas\\', \\'Automation\\', \\'Numpy\\', \\'Analyze\\', \\'Sqlalchemy\\', \\'Matplotlib\\', \\'Website\\', \\'Business intelligence\\', \\'Sql\\', \\'Forecasting\\', \\'Aws\\']\",,,,,,2,0\\n'"
      ]
     },
     "execution_count": 50,
     "metadata": {},
     "output_type": "execute_result"
    }
   ],
   "source": [
    "Finaldata = df_.to_csv(index=False)\n",
    "Finaldata"
   ]
  },
  {
   "cell_type": "code",
   "execution_count": null,
   "metadata": {
    "id": "iwjM1P64DMz8"
   },
   "outputs": [],
   "source": []
  }
 ],
 "metadata": {
  "colab": {
   "collapsed_sections": [
    "c8zTsQ31VC_O"
   ],
   "name": "RESUME Classification.ipynb",
   "provenance": []
  },
  "kernelspec": {
   "display_name": "Python 3",
   "language": "python",
   "name": "python3"
  },
  "language_info": {
   "codemirror_mode": {
    "name": "ipython",
    "version": 3
   },
   "file_extension": ".py",
   "mimetype": "text/x-python",
   "name": "python",
   "nbconvert_exporter": "python",
   "pygments_lexer": "ipython3",
   "version": "3.8.8"
  }
 },
 "nbformat": 4,
 "nbformat_minor": 1
}
