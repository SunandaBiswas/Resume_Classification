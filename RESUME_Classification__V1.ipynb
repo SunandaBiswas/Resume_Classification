{
  "nbformat": 4,
  "nbformat_minor": 0,
  "metadata": {
    "colab": {
      "name": "RESUME Classification.ipynb",
      "provenance": []
    },
    "kernelspec": {
      "name": "python3",
      "display_name": "Python 3"
    },
    "language_info": {
      "name": "python"
    }
  },
  "cells": [
    {
      "cell_type": "markdown",
      "source": [
        "#####RESOURCES : \n",
        "- https://www.youtube.com/watch?v=1mZAG4g3GXE&ab_channel=Twdzac\n",
        "- https://www.youtube.com/watch?v=8fVEMdHKmqM&ab_channel=SatyajitPattnaik"
      ],
      "metadata": {
        "id": "Hf3OBghNDVdM"
      }
    },
    {
      "cell_type": "code",
      "source": [
        "#!pip install --user https://github.com/explosion/spacy-models/releases/download/en_core_web_sm-2.3.1/en_core_web_sm-2.3.1.tar.gz    \n",
        "#!pip install pyresparser\n",
        "#!pip install nltk \n",
        "#!pip install --user spacy==2.3.5 \n",
        "#!pip install python-docx \n",
        "#!pip install docx \n",
        "#!pip install en_core_web_sm\n",
        "#!pip install PyPDF2"
      ],
      "metadata": {
        "colab": {
          "base_uri": "https://localhost:8080/"
        },
        "id": "FTi-IMA29Es-",
        "outputId": "99916386-819d-47cf-ebff-366ec3362893"
      },
      "execution_count": 25,
      "outputs": [
        {
          "output_type": "stream",
          "name": "stdout",
          "text": [
            "Collecting PyPDF2\n",
            "  Downloading PyPDF2-1.26.0.tar.gz (77 kB)\n",
            "\u001b[?25l\r\u001b[K     |████▎                           | 10 kB 19.9 MB/s eta 0:00:01\r\u001b[K     |████████▌                       | 20 kB 11.7 MB/s eta 0:00:01\r\u001b[K     |████████████▊                   | 30 kB 9.4 MB/s eta 0:00:01\r\u001b[K     |█████████████████               | 40 kB 4.6 MB/s eta 0:00:01\r\u001b[K     |█████████████████████▏          | 51 kB 4.5 MB/s eta 0:00:01\r\u001b[K     |█████████████████████████▍      | 61 kB 5.3 MB/s eta 0:00:01\r\u001b[K     |█████████████████████████████▋  | 71 kB 5.9 MB/s eta 0:00:01\r\u001b[K     |████████████████████████████████| 77 kB 3.1 MB/s \n",
            "\u001b[?25hBuilding wheels for collected packages: PyPDF2\n",
            "  Building wheel for PyPDF2 (setup.py) ... \u001b[?25l\u001b[?25hdone\n",
            "  Created wheel for PyPDF2: filename=PyPDF2-1.26.0-py3-none-any.whl size=61102 sha256=641c89bb0058a98a190fdeffcff1c0a708906ee9baadfc5cb6bab3a46ee5c3b5\n",
            "  Stored in directory: /root/.cache/pip/wheels/80/1a/24/648467ade3a77ed20f35cfd2badd32134e96dd25ca811e64b3\n",
            "Successfully built PyPDF2\n",
            "Installing collected packages: PyPDF2\n",
            "Successfully installed PyPDF2-1.26.0\n"
          ]
        }
      ]
    },
    {
      "cell_type": "code",
      "source": [
        "import warnings\n",
        "warnings.filterwarnings('ignore')"
      ],
      "metadata": {
        "id": "knaw2fyFAAVV"
      },
      "execution_count": 21,
      "outputs": []
    },
    {
      "cell_type": "code",
      "source": [
        "import en_core_web_sm\n",
        "data = en_core_web_sm.load()"
      ],
      "metadata": {
        "id": "1mFxpY5FAJUc"
      },
      "execution_count": 22,
      "outputs": []
    },
    {
      "cell_type": "code",
      "source": [
        "import PyPDF2\n",
        "import os\n",
        "from pyresparser import ResumeParser"
      ],
      "metadata": {
        "id": "zuF_sl7PAQFH"
      },
      "execution_count": 28,
      "outputs": []
    },
    {
      "cell_type": "code",
      "source": [
        "skillList = []"
      ],
      "metadata": {
        "id": "tZO8J1MVATQI"
      },
      "execution_count": 29,
      "outputs": []
    },
    {
      "cell_type": "code",
      "source": [
        "file = input()\n"
      ],
      "metadata": {
        "colab": {
          "base_uri": "https://localhost:8080/"
        },
        "id": "zTueNdD3BA4I",
        "outputId": "a861fa66-db57-4fe3-e3fd-8205ec238b86"
      },
      "execution_count": 30,
      "outputs": [
        {
          "name": "stdout",
          "output_type": "stream",
          "text": [
            "/SUNANDA__BISWAS___CV.pdf\n"
          ]
        }
      ]
    },
    {
      "cell_type": "code",
      "source": [
        "data = ResumeParser(file).get_extracted_data()"
      ],
      "metadata": {
        "id": "_v-D9Zn6BLq2"
      },
      "execution_count": 31,
      "outputs": []
    },
    {
      "cell_type": "code",
      "source": [
        "data"
      ],
      "metadata": {
        "colab": {
          "base_uri": "https://localhost:8080/"
        },
        "id": "oe-sGP8HBo5V",
        "outputId": "990bfd65-4f7c-4d23-de3e-f83718c06bc7"
      },
      "execution_count": 32,
      "outputs": [
        {
          "output_type": "execute_result",
          "data": {
            "text/plain": [
              "{'college_name': None,\n",
              " 'company_names': None,\n",
              " 'degree': ['Bachelor of Science \\n(January 2017 – October 2021)'],\n",
              " 'designation': None,\n",
              " 'email': 'biswas.sunanda9873@gmail.com',\n",
              " 'experience': None,\n",
              " 'mobile_number': '8801521215',\n",
              " 'name': 'Sunanda Biswas',\n",
              " 'no_of_pages': 3,\n",
              " 'skills': ['Programming',\n",
              "  'Geopy',\n",
              "  'Forecasting',\n",
              "  'Python',\n",
              "  'Certification',\n",
              "  'Css',\n",
              "  'Tableau',\n",
              "  'Startup',\n",
              "  'Finance',\n",
              "  'Engineering',\n",
              "  'Sql',\n",
              "  'English',\n",
              "  'Reports',\n",
              "  'Architecture',\n",
              "  'Tensorflow',\n",
              "  'Spyder',\n",
              "  'Interactive',\n",
              "  'Java',\n",
              "  'Selenium',\n",
              "  'Jupyter',\n",
              "  'System',\n",
              "  'Matplotlib',\n",
              "  'Numpy',\n",
              "  'Beautifulsoup',\n",
              "  'Github',\n",
              "  'Video',\n",
              "  'Audio',\n",
              "  'Analysis',\n",
              "  'Html',\n",
              "  'Seaborn',\n",
              "  'Content',\n",
              "  'Reporting',\n",
              "  'Research',\n",
              "  'Pandas',\n",
              "  'Budget',\n",
              "  'Ai',\n",
              "  'Sports'],\n",
              " 'total_experience': 0}"
            ]
          },
          "metadata": {},
          "execution_count": 32
        }
      ]
    },
    {
      "cell_type": "code",
      "source": [
        "skills = data['skills']\n",
        "skills"
      ],
      "metadata": {
        "colab": {
          "base_uri": "https://localhost:8080/"
        },
        "id": "9YAxMNMTBq35",
        "outputId": "c22fd828-5865-450b-fec6-60a7768ee59b"
      },
      "execution_count": 33,
      "outputs": [
        {
          "output_type": "execute_result",
          "data": {
            "text/plain": [
              "['Programming',\n",
              " 'Geopy',\n",
              " 'Forecasting',\n",
              " 'Python',\n",
              " 'Certification',\n",
              " 'Css',\n",
              " 'Tableau',\n",
              " 'Startup',\n",
              " 'Finance',\n",
              " 'Engineering',\n",
              " 'Sql',\n",
              " 'English',\n",
              " 'Reports',\n",
              " 'Architecture',\n",
              " 'Tensorflow',\n",
              " 'Spyder',\n",
              " 'Interactive',\n",
              " 'Java',\n",
              " 'Selenium',\n",
              " 'Jupyter',\n",
              " 'System',\n",
              " 'Matplotlib',\n",
              " 'Numpy',\n",
              " 'Beautifulsoup',\n",
              " 'Github',\n",
              " 'Video',\n",
              " 'Audio',\n",
              " 'Analysis',\n",
              " 'Html',\n",
              " 'Seaborn',\n",
              " 'Content',\n",
              " 'Reporting',\n",
              " 'Research',\n",
              " 'Pandas',\n",
              " 'Budget',\n",
              " 'Ai',\n",
              " 'Sports']"
            ]
          },
          "metadata": {},
          "execution_count": 33
        }
      ]
    },
    {
      "cell_type": "code",
      "source": [
        "#Skills : list to Dataframe"
      ],
      "metadata": {
        "id": "JGddUyGgB2EL"
      },
      "execution_count": 35,
      "outputs": []
    },
    {
      "cell_type": "code",
      "source": [
        "import pandas as pd "
      ],
      "metadata": {
        "id": "K4zZ_aunB5cN"
      },
      "execution_count": 40,
      "outputs": []
    },
    {
      "cell_type": "code",
      "source": [
        "df = pd.DataFrame(list(skills), columns = ['skills'])\n",
        "df"
      ],
      "metadata": {
        "colab": {
          "base_uri": "https://localhost:8080/",
          "height": 655
        },
        "id": "JLSF98fVCGEz",
        "outputId": "0e2cc523-30ec-4364-c705-af39d25dc078"
      },
      "execution_count": 42,
      "outputs": [
        {
          "output_type": "execute_result",
          "data": {
            "text/plain": [
              "           skills\n",
              "0     Programming\n",
              "1           Geopy\n",
              "2     Forecasting\n",
              "3          Python\n",
              "4   Certification\n",
              "5             Css\n",
              "6         Tableau\n",
              "7         Startup\n",
              "8         Finance\n",
              "9     Engineering\n",
              "10            Sql\n",
              "11        English\n",
              "12        Reports\n",
              "13   Architecture\n",
              "14     Tensorflow\n",
              "15         Spyder\n",
              "16    Interactive\n",
              "17           Java\n",
              "18       Selenium\n",
              "19        Jupyter\n",
              "20         System\n",
              "21     Matplotlib\n",
              "22          Numpy\n",
              "23  Beautifulsoup\n",
              "24         Github\n",
              "25          Video\n",
              "26          Audio\n",
              "27       Analysis\n",
              "28           Html\n",
              "29        Seaborn\n",
              "30        Content\n",
              "31      Reporting\n",
              "32       Research\n",
              "33         Pandas\n",
              "34         Budget\n",
              "35             Ai\n",
              "36         Sports"
            ],
            "text/html": [
              "\n",
              "  <div id=\"df-d1df5c9b-6d62-4326-9e75-608d0015a7ac\">\n",
              "    <div class=\"colab-df-container\">\n",
              "      <div>\n",
              "<style scoped>\n",
              "    .dataframe tbody tr th:only-of-type {\n",
              "        vertical-align: middle;\n",
              "    }\n",
              "\n",
              "    .dataframe tbody tr th {\n",
              "        vertical-align: top;\n",
              "    }\n",
              "\n",
              "    .dataframe thead th {\n",
              "        text-align: right;\n",
              "    }\n",
              "</style>\n",
              "<table border=\"1\" class=\"dataframe\">\n",
              "  <thead>\n",
              "    <tr style=\"text-align: right;\">\n",
              "      <th></th>\n",
              "      <th>skills</th>\n",
              "    </tr>\n",
              "  </thead>\n",
              "  <tbody>\n",
              "    <tr>\n",
              "      <th>0</th>\n",
              "      <td>Programming</td>\n",
              "    </tr>\n",
              "    <tr>\n",
              "      <th>1</th>\n",
              "      <td>Geopy</td>\n",
              "    </tr>\n",
              "    <tr>\n",
              "      <th>2</th>\n",
              "      <td>Forecasting</td>\n",
              "    </tr>\n",
              "    <tr>\n",
              "      <th>3</th>\n",
              "      <td>Python</td>\n",
              "    </tr>\n",
              "    <tr>\n",
              "      <th>4</th>\n",
              "      <td>Certification</td>\n",
              "    </tr>\n",
              "    <tr>\n",
              "      <th>5</th>\n",
              "      <td>Css</td>\n",
              "    </tr>\n",
              "    <tr>\n",
              "      <th>6</th>\n",
              "      <td>Tableau</td>\n",
              "    </tr>\n",
              "    <tr>\n",
              "      <th>7</th>\n",
              "      <td>Startup</td>\n",
              "    </tr>\n",
              "    <tr>\n",
              "      <th>8</th>\n",
              "      <td>Finance</td>\n",
              "    </tr>\n",
              "    <tr>\n",
              "      <th>9</th>\n",
              "      <td>Engineering</td>\n",
              "    </tr>\n",
              "    <tr>\n",
              "      <th>10</th>\n",
              "      <td>Sql</td>\n",
              "    </tr>\n",
              "    <tr>\n",
              "      <th>11</th>\n",
              "      <td>English</td>\n",
              "    </tr>\n",
              "    <tr>\n",
              "      <th>12</th>\n",
              "      <td>Reports</td>\n",
              "    </tr>\n",
              "    <tr>\n",
              "      <th>13</th>\n",
              "      <td>Architecture</td>\n",
              "    </tr>\n",
              "    <tr>\n",
              "      <th>14</th>\n",
              "      <td>Tensorflow</td>\n",
              "    </tr>\n",
              "    <tr>\n",
              "      <th>15</th>\n",
              "      <td>Spyder</td>\n",
              "    </tr>\n",
              "    <tr>\n",
              "      <th>16</th>\n",
              "      <td>Interactive</td>\n",
              "    </tr>\n",
              "    <tr>\n",
              "      <th>17</th>\n",
              "      <td>Java</td>\n",
              "    </tr>\n",
              "    <tr>\n",
              "      <th>18</th>\n",
              "      <td>Selenium</td>\n",
              "    </tr>\n",
              "    <tr>\n",
              "      <th>19</th>\n",
              "      <td>Jupyter</td>\n",
              "    </tr>\n",
              "    <tr>\n",
              "      <th>20</th>\n",
              "      <td>System</td>\n",
              "    </tr>\n",
              "    <tr>\n",
              "      <th>21</th>\n",
              "      <td>Matplotlib</td>\n",
              "    </tr>\n",
              "    <tr>\n",
              "      <th>22</th>\n",
              "      <td>Numpy</td>\n",
              "    </tr>\n",
              "    <tr>\n",
              "      <th>23</th>\n",
              "      <td>Beautifulsoup</td>\n",
              "    </tr>\n",
              "    <tr>\n",
              "      <th>24</th>\n",
              "      <td>Github</td>\n",
              "    </tr>\n",
              "    <tr>\n",
              "      <th>25</th>\n",
              "      <td>Video</td>\n",
              "    </tr>\n",
              "    <tr>\n",
              "      <th>26</th>\n",
              "      <td>Audio</td>\n",
              "    </tr>\n",
              "    <tr>\n",
              "      <th>27</th>\n",
              "      <td>Analysis</td>\n",
              "    </tr>\n",
              "    <tr>\n",
              "      <th>28</th>\n",
              "      <td>Html</td>\n",
              "    </tr>\n",
              "    <tr>\n",
              "      <th>29</th>\n",
              "      <td>Seaborn</td>\n",
              "    </tr>\n",
              "    <tr>\n",
              "      <th>30</th>\n",
              "      <td>Content</td>\n",
              "    </tr>\n",
              "    <tr>\n",
              "      <th>31</th>\n",
              "      <td>Reporting</td>\n",
              "    </tr>\n",
              "    <tr>\n",
              "      <th>32</th>\n",
              "      <td>Research</td>\n",
              "    </tr>\n",
              "    <tr>\n",
              "      <th>33</th>\n",
              "      <td>Pandas</td>\n",
              "    </tr>\n",
              "    <tr>\n",
              "      <th>34</th>\n",
              "      <td>Budget</td>\n",
              "    </tr>\n",
              "    <tr>\n",
              "      <th>35</th>\n",
              "      <td>Ai</td>\n",
              "    </tr>\n",
              "    <tr>\n",
              "      <th>36</th>\n",
              "      <td>Sports</td>\n",
              "    </tr>\n",
              "  </tbody>\n",
              "</table>\n",
              "</div>\n",
              "      <button class=\"colab-df-convert\" onclick=\"convertToInteractive('df-d1df5c9b-6d62-4326-9e75-608d0015a7ac')\"\n",
              "              title=\"Convert this dataframe to an interactive table.\"\n",
              "              style=\"display:none;\">\n",
              "        \n",
              "  <svg xmlns=\"http://www.w3.org/2000/svg\" height=\"24px\"viewBox=\"0 0 24 24\"\n",
              "       width=\"24px\">\n",
              "    <path d=\"M0 0h24v24H0V0z\" fill=\"none\"/>\n",
              "    <path d=\"M18.56 5.44l.94 2.06.94-2.06 2.06-.94-2.06-.94-.94-2.06-.94 2.06-2.06.94zm-11 1L8.5 8.5l.94-2.06 2.06-.94-2.06-.94L8.5 2.5l-.94 2.06-2.06.94zm10 10l.94 2.06.94-2.06 2.06-.94-2.06-.94-.94-2.06-.94 2.06-2.06.94z\"/><path d=\"M17.41 7.96l-1.37-1.37c-.4-.4-.92-.59-1.43-.59-.52 0-1.04.2-1.43.59L10.3 9.45l-7.72 7.72c-.78.78-.78 2.05 0 2.83L4 21.41c.39.39.9.59 1.41.59.51 0 1.02-.2 1.41-.59l7.78-7.78 2.81-2.81c.8-.78.8-2.07 0-2.86zM5.41 20L4 18.59l7.72-7.72 1.47 1.35L5.41 20z\"/>\n",
              "  </svg>\n",
              "      </button>\n",
              "      \n",
              "  <style>\n",
              "    .colab-df-container {\n",
              "      display:flex;\n",
              "      flex-wrap:wrap;\n",
              "      gap: 12px;\n",
              "    }\n",
              "\n",
              "    .colab-df-convert {\n",
              "      background-color: #E8F0FE;\n",
              "      border: none;\n",
              "      border-radius: 50%;\n",
              "      cursor: pointer;\n",
              "      display: none;\n",
              "      fill: #1967D2;\n",
              "      height: 32px;\n",
              "      padding: 0 0 0 0;\n",
              "      width: 32px;\n",
              "    }\n",
              "\n",
              "    .colab-df-convert:hover {\n",
              "      background-color: #E2EBFA;\n",
              "      box-shadow: 0px 1px 2px rgba(60, 64, 67, 0.3), 0px 1px 3px 1px rgba(60, 64, 67, 0.15);\n",
              "      fill: #174EA6;\n",
              "    }\n",
              "\n",
              "    [theme=dark] .colab-df-convert {\n",
              "      background-color: #3B4455;\n",
              "      fill: #D2E3FC;\n",
              "    }\n",
              "\n",
              "    [theme=dark] .colab-df-convert:hover {\n",
              "      background-color: #434B5C;\n",
              "      box-shadow: 0px 1px 3px 1px rgba(0, 0, 0, 0.15);\n",
              "      filter: drop-shadow(0px 1px 2px rgba(0, 0, 0, 0.3));\n",
              "      fill: #FFFFFF;\n",
              "    }\n",
              "  </style>\n",
              "\n",
              "      <script>\n",
              "        const buttonEl =\n",
              "          document.querySelector('#df-d1df5c9b-6d62-4326-9e75-608d0015a7ac button.colab-df-convert');\n",
              "        buttonEl.style.display =\n",
              "          google.colab.kernel.accessAllowed ? 'block' : 'none';\n",
              "\n",
              "        async function convertToInteractive(key) {\n",
              "          const element = document.querySelector('#df-d1df5c9b-6d62-4326-9e75-608d0015a7ac');\n",
              "          const dataTable =\n",
              "            await google.colab.kernel.invokeFunction('convertToInteractive',\n",
              "                                                     [key], {});\n",
              "          if (!dataTable) return;\n",
              "\n",
              "          const docLinkHtml = 'Like what you see? Visit the ' +\n",
              "            '<a target=\"_blank\" href=https://colab.research.google.com/notebooks/data_table.ipynb>data table notebook</a>'\n",
              "            + ' to learn more about interactive tables.';\n",
              "          element.innerHTML = '';\n",
              "          dataTable['output_type'] = 'display_data';\n",
              "          await google.colab.output.renderOutput(dataTable, element);\n",
              "          const docLink = document.createElement('div');\n",
              "          docLink.innerHTML = docLinkHtml;\n",
              "          element.appendChild(docLink);\n",
              "        }\n",
              "      </script>\n",
              "    </div>\n",
              "  </div>\n",
              "  "
            ]
          },
          "metadata": {},
          "execution_count": 42
        }
      ]
    },
    {
      "cell_type": "code",
      "source": [
        "Finaldata = df.to_csv(index=False)\n",
        "Finaldata"
      ],
      "metadata": {
        "colab": {
          "base_uri": "https://localhost:8080/",
          "height": 53
        },
        "id": "rhPfBmXBCT68",
        "outputId": "37dac594-627c-4892-ed1c-84da78f0dbf8"
      },
      "execution_count": 43,
      "outputs": [
        {
          "output_type": "execute_result",
          "data": {
            "text/plain": [
              "'skills\\nProgramming\\nGeopy\\nForecasting\\nPython\\nCertification\\nCss\\nTableau\\nStartup\\nFinance\\nEngineering\\nSql\\nEnglish\\nReports\\nArchitecture\\nTensorflow\\nSpyder\\nInteractive\\nJava\\nSelenium\\nJupyter\\nSystem\\nMatplotlib\\nNumpy\\nBeautifulsoup\\nGithub\\nVideo\\nAudio\\nAnalysis\\nHtml\\nSeaborn\\nContent\\nReporting\\nResearch\\nPandas\\nBudget\\nAi\\nSports\\n'"
            ],
            "application/vnd.google.colaboratory.intrinsic+json": {
              "type": "string"
            }
          },
          "metadata": {},
          "execution_count": 43
        }
      ]
    },
    {
      "cell_type": "code",
      "source": [
        ""
      ],
      "metadata": {
        "id": "iwjM1P64DMz8"
      },
      "execution_count": null,
      "outputs": []
    }
  ]
}